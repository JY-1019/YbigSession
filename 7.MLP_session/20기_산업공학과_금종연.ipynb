{
  "cells": [
    {
      "cell_type": "markdown",
      "metadata": {
        "id": "MN_pVd5cU2QQ"
      },
      "source": [
        "# 과제: MNIST 데이터를 나만의 NN model로 95 % 이상의 성능으로 training 시켜보자!\n",
        "\n",
        "\n",
        "## Loading MNIST training data\n",
        "\n",
        "출처: 18기 DS 김승하님"
      ]
    },
    {
      "cell_type": "code",
      "execution_count": 5,
      "metadata": {
        "ExecuteTime": {
          "start_time": "2022-02-02T12:35:07.639Z"
        },
        "id": "hwZNV5MFU2QQ"
      },
      "outputs": [],
      "source": [
        "import tensorflow as tf\n",
        "from tensorflow import keras\n",
        "\n",
        "# import matplotlib\n",
        "import matplotlib.pyplot as plt\n",
        "%matplotlib inline\n",
        "\n",
        "# Loading the data\n",
        "(x_train, y_train), (x_test, y_test) = tf.keras.datasets.mnist.load_data()\n",
        "\n",
        "# Scaling(image data는 min-max scaling 주로 사용)\n",
        "x_train = x_train/255.0\n",
        "x_test = x_test/255.0"
      ]
    },
    {
      "cell_type": "markdown",
      "metadata": {
        "id": "RDU8J2xRU2QQ"
      },
      "source": [
        "## Training Data\n",
        "28 * 28 pixel 값을 가진 총 60000개의 이미지 데이터"
      ]
    },
    {
      "cell_type": "code",
      "execution_count": 2,
      "metadata": {
        "ExecuteTime": {
          "end_time": "2022-02-02T12:35:02.396601Z",
          "start_time": "2022-02-02T12:35:02.318971Z"
        },
        "colab": {
          "base_uri": "https://localhost:8080/"
        },
        "id": "jVvXmjQSU2QQ",
        "outputId": "8cd41aee-d0f3-426f-f4ab-e1b18fe25fd3"
      },
      "outputs": [
        {
          "output_type": "execute_result",
          "data": {
            "text/plain": [
              "(60000, 28, 28)"
            ]
          },
          "metadata": {},
          "execution_count": 2
        }
      ],
      "source": [
        "x_train.shape "
      ]
    },
    {
      "cell_type": "markdown",
      "metadata": {
        "id": "272a9wmbuL3L"
      },
      "source": [
        ""
      ]
    },
    {
      "cell_type": "markdown",
      "metadata": {
        "id": "-VTAAYKSU2QQ"
      },
      "source": [
        "Neural network 모델에 맞게 이미지 데이터를 벡터 형태로 데이터를 reshape 합니다.  \n",
        "(Model을 만들 때 *keras.layers.Flatten(input_shape=(28, 28)) 이용해도 됨)"
      ]
    },
    {
      "cell_type": "code",
      "source": [
        "# Hint: x_train[0].reshape()\n",
        "plt.imshow(x_train[0]).set_cmap('Greys')"
      ],
      "metadata": {
        "colab": {
          "base_uri": "https://localhost:8080/",
          "height": 265
        },
        "id": "HcCvfg9kdwh2",
        "outputId": "b0ea325c-7291-4a0b-a243-1ba8f92b7e6d"
      },
      "execution_count": 7,
      "outputs": [
        {
          "output_type": "display_data",
          "data": {
            "image/png": "[encoded data removed]",
            "text/plain": [
              "<Figure size 432x288 with 1 Axes>"
            ]
          },
          "metadata": {
            "needs_background": "light"
          }
        }
      ]
    },
    {
      "cell_type": "code",
      "execution_count": 8,
      "metadata": {
        "ExecuteTime": {
          "end_time": "2022-02-02T12:35:05.222234Z",
          "start_time": "2022-02-02T12:35:05.212024Z"
        },
        "colab": {
          "base_uri": "https://localhost:8080/"
        },
        "id": "dq36yUX8U2QR",
        "outputId": "8880684d-662d-4ab6-8d14-64f2e8c10dff"
      },
      "outputs": [
        {
          "output_type": "execute_result",
          "data": {
            "text/plain": [
              "((60000, 784), (10000, 784))"
            ]
          },
          "metadata": {},
          "execution_count": 8
        }
      ],
      "source": [
        "x_train, x_test = x_train.reshape((-1, 28*28)), x_test.reshape((-1, 28*28))\n",
        "x_train.shape, x_test.shape"
      ]
    },
    {
      "cell_type": "markdown",
      "metadata": {
        "id": "0YZXzr-AU2QR"
      },
      "source": [
        "## Training Labels\n",
        "이미지 데이터가 나타내는 숫자값을 label로 가지고 있고, 0부터 9까지의 값을 나타냄  \n",
        "마찬가지로, 60000개의 label이 존재"
      ]
    },
    {
      "cell_type": "code",
      "execution_count": 9,
      "metadata": {
        "id": "V-JVvQcJU2QR",
        "colab": {
          "base_uri": "https://localhost:8080/"
        },
        "outputId": "a02e979d-dd8a-431d-8232-3fd6a000ac91"
      },
      "outputs": [
        {
          "output_type": "execute_result",
          "data": {
            "text/plain": [
              "(60000,)"
            ]
          },
          "metadata": {},
          "execution_count": 9
        }
      ],
      "source": [
        "y_train.shape"
      ]
    },
    {
      "cell_type": "code",
      "execution_count": 10,
      "metadata": {
        "id": "PgAkJK6yU2QR",
        "colab": {
          "base_uri": "https://localhost:8080/"
        },
        "outputId": "2a1c6f80-f85b-4153-db3f-7a4619d8a9d3"
      },
      "outputs": [
        {
          "output_type": "execute_result",
          "data": {
            "text/plain": [
              "5"
            ]
          },
          "metadata": {},
          "execution_count": 10
        }
      ],
      "source": [
        "# show MNIST label for above data\n",
        "y_train[0]"
      ]
    },
    {
      "cell_type": "markdown",
      "metadata": {
        "id": "qaI3Kv_GU2QR"
      },
      "source": [
        "## 나만의 모델을 tensorflow keras API 를 이용해 만들어 봅시다~"
      ]
    },
    {
      "cell_type": "markdown",
      "metadata": {
        "id": "gSshVnt2U2QS"
      },
      "source": [
        "* parameters for model"
      ]
    },
    {
      "cell_type": "code",
      "execution_count": 11,
      "metadata": {
        "id": "coUZ53nKU2QS"
      },
      "outputs": [],
      "source": [
        "activation_list = [\"sigmoid\", \"relu\", \"softmax\", \"tanh\"]\n",
        "\n",
        "loss_list = [\"sparse_categorical_crossentropy\",\n",
        "             \"categorical_crossentropy\", \n",
        "             \"binary_crossentropy\"]\n",
        "\n",
        "optimizer_list = [\"sgd\", \"adam\", \"rmsprop\", \"adagrad\"]\n",
        "\n",
        "initializer_list = [tf.keras.initializers.RandomNormal(), \n",
        "                    tf.keras.initializers.RandomUniform(), \n",
        "                    tf.keras.initializers.he_normal(), \n",
        "                    tf.keras.initializers.he_uniform(), \n",
        "                    tf.keras.initializers.GlorotUniform(),\n",
        "                    tf.keras.initializers.GlorotNormal()]\n",
        "\n",
        "# dropout\n",
        "dropout_rate = 0.3\n",
        "model = tf.keras.Sequential([\n",
        "    tf.keras.layers.Dense(256, input_dim=784, activation = \"sigmoid\"),\n",
        "    tf.keras.layers.Dense(2, activation = \"sigmoid\"),\n",
        "    tf.keras.layers.Dropout(dropout_rate)\n",
        "])\n",
        "\n",
        "\n",
        "# regularizer\n",
        "regularizer = tf.keras.regularizers.l1(1e-3)\n",
        "regularizer = tf.keras.regularizers.l2(1e-3)\n",
        "model = tf.keras.Sequential([\n",
        "    tf.keras.layers.Dense(256, input_dim=784, activation=\"sigmoid\",\n",
        "                          activity_regularizer=regularizer)\n",
        "])\n",
        "\n",
        "# weight initialization\n",
        "model = tf.keras.Sequential([\n",
        "    tf.keras.layers.Dense(256, input_dim=784, activation=\"sigmoid\",\n",
        "                          kernel_initializer=initializer_list[0])\n",
        "])"
      ]
    },
    {
      "cell_type": "markdown",
      "metadata": {
        "id": "d-6ZTz4AU2QS"
      },
      "source": [
        "#### My Own Model "
      ]
    },
    {
      "cell_type": "code",
      "execution_count": 34,
      "metadata": {
        "id": "ziVbGe6sU2QS"
      },
      "outputs": [],
      "source": [
        "#### 자유롭게 Model을 만들고 compile 해봅시다 ####\n",
        "model = tf.keras.Sequential()\n",
        "\n",
        "model = keras.models.Sequential([\n",
        "    keras.layers.Dense(200, input_dim=784, activation=\"relu\",\n",
        "                       kernel_initializer=\"he_normal\",\n",
        "                       kernel_regularizer=keras.regularizers.l2(0.001)),\n",
        "    keras.layers.Dense(100, activation=\"relu\",\n",
        "                       kernel_initializer=\"he_normal\",\n",
        "                       kernel_regularizer=keras.regularizers.l2(0.001)),\n",
        "    keras.layers.Dropout(0.3),\n",
        "    keras.layers.Dense(50, activation=\"relu\",\n",
        "                       kernel_regularizer=keras.regularizers.l2(0.001)),\n",
        "    keras.layers.Dense(10, activation=\"softmax\")\n",
        "])"
      ]
    },
    {
      "cell_type": "code",
      "source": [
        "model.compile(optimizer = keras.optimizers.Adam(learning_rate=1e-3),\n",
        "              loss = 'sparse_categorical_crossentropy',\n",
        "              metrics = ['accuracy'])"
      ],
      "metadata": {
        "id": "kVyIOT3MgCGz"
      },
      "execution_count": 35,
      "outputs": []
    },
    {
      "cell_type": "code",
      "execution_count": 36,
      "metadata": {
        "id": "GChgw-8sU2QT",
        "colab": {
          "base_uri": "https://localhost:8080/"
        },
        "outputId": "1a172f79-e280-4a27-e5a9-e43b344acced"
      },
      "outputs": [
        {
          "output_type": "stream",
          "name": "stdout",
          "text": [
            "Model: \"sequential_13\"\n",
            "_________________________________________________________________\n",
            " Layer (type)                Output Shape              Param #   \n",
            "=================================================================\n",
            " dense_19 (Dense)            (None, 200)               157000    \n",
            "                                                                 \n",
            " dense_20 (Dense)            (None, 100)               20100     \n",
            "                                                                 \n",
            " dropout_3 (Dropout)         (None, 100)               0         \n",
            "                                                                 \n",
            " dense_21 (Dense)            (None, 50)                5050      \n",
            "                                                                 \n",
            " dense_22 (Dense)            (None, 10)                510       \n",
            "                                                                 \n",
            "=================================================================\n",
            "Total params: 182,660\n",
            "Trainable params: 182,660\n",
            "Non-trainable params: 0\n",
            "_________________________________________________________________\n"
          ]
        }
      ],
      "source": [
        "model.summary()"
      ]
    },
    {
      "cell_type": "markdown",
      "metadata": {
        "id": "f9zWRRHIU2QT"
      },
      "source": [
        "model을 자유롭게 train 해봅시다.  "
      ]
    },
    {
      "cell_type": "code",
      "execution_count": 37,
      "metadata": {
        "id": "6uygJ19gU2QT",
        "colab": {
          "base_uri": "https://localhost:8080/"
        },
        "outputId": "91fa7bb6-67cc-49dd-ad13-ab657540fae6"
      },
      "outputs": [
        {
          "output_type": "stream",
          "name": "stdout",
          "text": [
            "Epoch 1/50\n",
            "1500/1500 [==============================] - 5s 3ms/step - loss: 0.6633 - accuracy: 0.8980 - val_loss: 0.3810 - val_accuracy: 0.9582\n",
            "Epoch 2/50\n",
            "1500/1500 [==============================] - 4s 3ms/step - loss: 0.3690 - accuracy: 0.9514 - val_loss: 0.2963 - val_accuracy: 0.9642\n",
            "Epoch 3/50\n",
            "1500/1500 [==============================] - 4s 3ms/step - loss: 0.3024 - accuracy: 0.9589 - val_loss: 0.2828 - val_accuracy: 0.9590\n",
            "Epoch 4/50\n",
            "1500/1500 [==============================] - 4s 3ms/step - loss: 0.2709 - accuracy: 0.9630 - val_loss: 0.2403 - val_accuracy: 0.9693\n",
            "Epoch 5/50\n",
            "1500/1500 [==============================] - 4s 3ms/step - loss: 0.2505 - accuracy: 0.9655 - val_loss: 0.2314 - val_accuracy: 0.9680\n",
            "Epoch 6/50\n",
            "1500/1500 [==============================] - 4s 3ms/step - loss: 0.2384 - accuracy: 0.9675 - val_loss: 0.2363 - val_accuracy: 0.9667\n",
            "Epoch 7/50\n",
            "1500/1500 [==============================] - 4s 3ms/step - loss: 0.2274 - accuracy: 0.9686 - val_loss: 0.2268 - val_accuracy: 0.9674\n",
            "Epoch 8/50\n",
            "1500/1500 [==============================] - 4s 3ms/step - loss: 0.2200 - accuracy: 0.9696 - val_loss: 0.2147 - val_accuracy: 0.9712\n",
            "Epoch 9/50\n",
            "1500/1500 [==============================] - 4s 3ms/step - loss: 0.2121 - accuracy: 0.9713 - val_loss: 0.2116 - val_accuracy: 0.9700\n",
            "Epoch 10/50\n",
            "1500/1500 [==============================] - 4s 3ms/step - loss: 0.2076 - accuracy: 0.9717 - val_loss: 0.2120 - val_accuracy: 0.9680\n",
            "Epoch 11/50\n",
            "1500/1500 [==============================] - 4s 3ms/step - loss: 0.2043 - accuracy: 0.9712 - val_loss: 0.2115 - val_accuracy: 0.9687\n",
            "Epoch 12/50\n",
            "1500/1500 [==============================] - 5s 3ms/step - loss: 0.2023 - accuracy: 0.9711 - val_loss: 0.2178 - val_accuracy: 0.9663\n",
            "Epoch 13/50\n",
            "1500/1500 [==============================] - 4s 3ms/step - loss: 0.1991 - accuracy: 0.9718 - val_loss: 0.2122 - val_accuracy: 0.9690\n",
            "Epoch 14/50\n",
            "1500/1500 [==============================] - 4s 3ms/step - loss: 0.1998 - accuracy: 0.9711 - val_loss: 0.2006 - val_accuracy: 0.9717\n",
            "Epoch 15/50\n",
            "1500/1500 [==============================] - 4s 3ms/step - loss: 0.1947 - accuracy: 0.9725 - val_loss: 0.2227 - val_accuracy: 0.9649\n",
            "Epoch 16/50\n",
            "1500/1500 [==============================] - 4s 3ms/step - loss: 0.1990 - accuracy: 0.9710 - val_loss: 0.1950 - val_accuracy: 0.9707\n",
            "Epoch 17/50\n",
            "1500/1500 [==============================] - 4s 3ms/step - loss: 0.1909 - accuracy: 0.9734 - val_loss: 0.2131 - val_accuracy: 0.9658\n",
            "Epoch 18/50\n",
            "1500/1500 [==============================] - 5s 3ms/step - loss: 0.1922 - accuracy: 0.9720 - val_loss: 0.2075 - val_accuracy: 0.9676\n",
            "Epoch 19/50\n",
            "1500/1500 [==============================] - 4s 3ms/step - loss: 0.1876 - accuracy: 0.9731 - val_loss: 0.2060 - val_accuracy: 0.9685\n",
            "Epoch 20/50\n",
            "1500/1500 [==============================] - 4s 3ms/step - loss: 0.1901 - accuracy: 0.9729 - val_loss: 0.2234 - val_accuracy: 0.9626\n",
            "Epoch 21/50\n",
            "1500/1500 [==============================] - 4s 3ms/step - loss: 0.1870 - accuracy: 0.9725 - val_loss: 0.1870 - val_accuracy: 0.9737\n",
            "Epoch 22/50\n",
            "1500/1500 [==============================] - 4s 3ms/step - loss: 0.1881 - accuracy: 0.9728 - val_loss: 0.2051 - val_accuracy: 0.9680\n",
            "Epoch 23/50\n",
            "1500/1500 [==============================] - 4s 3ms/step - loss: 0.1816 - accuracy: 0.9741 - val_loss: 0.2084 - val_accuracy: 0.9651\n",
            "Epoch 24/50\n",
            "1500/1500 [==============================] - 4s 3ms/step - loss: 0.1848 - accuracy: 0.9736 - val_loss: 0.2240 - val_accuracy: 0.9610\n",
            "Epoch 25/50\n",
            "1500/1500 [==============================] - 4s 3ms/step - loss: 0.1832 - accuracy: 0.9736 - val_loss: 0.1928 - val_accuracy: 0.9717\n",
            "Epoch 26/50\n",
            "1500/1500 [==============================] - 4s 3ms/step - loss: 0.1867 - accuracy: 0.9723 - val_loss: 0.2090 - val_accuracy: 0.9663\n",
            "Epoch 27/50\n",
            "1500/1500 [==============================] - 4s 3ms/step - loss: 0.1819 - accuracy: 0.9743 - val_loss: 0.1930 - val_accuracy: 0.9711\n",
            "Epoch 28/50\n",
            "1500/1500 [==============================] - 4s 3ms/step - loss: 0.1806 - accuracy: 0.9739 - val_loss: 0.2146 - val_accuracy: 0.9636\n",
            "Epoch 29/50\n",
            "1500/1500 [==============================] - 4s 3ms/step - loss: 0.1836 - accuracy: 0.9728 - val_loss: 0.1977 - val_accuracy: 0.9699\n",
            "Epoch 30/50\n",
            "1500/1500 [==============================] - 4s 3ms/step - loss: 0.1805 - accuracy: 0.9732 - val_loss: 0.2181 - val_accuracy: 0.9633\n",
            "Epoch 31/50\n",
            "1500/1500 [==============================] - 4s 3ms/step - loss: 0.1802 - accuracy: 0.9737 - val_loss: 0.1987 - val_accuracy: 0.9688\n",
            "Epoch 32/50\n",
            "1500/1500 [==============================] - 4s 3ms/step - loss: 0.1787 - accuracy: 0.9738 - val_loss: 0.1929 - val_accuracy: 0.9703\n",
            "Epoch 33/50\n",
            "1500/1500 [==============================] - 4s 3ms/step - loss: 0.1788 - accuracy: 0.9732 - val_loss: 0.1846 - val_accuracy: 0.9722\n",
            "Epoch 34/50\n",
            "1500/1500 [==============================] - 4s 3ms/step - loss: 0.1783 - accuracy: 0.9734 - val_loss: 0.1938 - val_accuracy: 0.9695\n",
            "Epoch 35/50\n",
            "1500/1500 [==============================] - 4s 3ms/step - loss: 0.1814 - accuracy: 0.9725 - val_loss: 0.2184 - val_accuracy: 0.9613\n",
            "Epoch 36/50\n",
            "1500/1500 [==============================] - 4s 3ms/step - loss: 0.1758 - accuracy: 0.9740 - val_loss: 0.1992 - val_accuracy: 0.9688\n",
            "Epoch 37/50\n",
            "1500/1500 [==============================] - 4s 3ms/step - loss: 0.1789 - accuracy: 0.9734 - val_loss: 0.1970 - val_accuracy: 0.9682\n",
            "Epoch 38/50\n",
            "1500/1500 [==============================] - 4s 3ms/step - loss: 0.1751 - accuracy: 0.9746 - val_loss: 0.2059 - val_accuracy: 0.9663\n",
            "Epoch 39/50\n",
            "1500/1500 [==============================] - 5s 3ms/step - loss: 0.1795 - accuracy: 0.9729 - val_loss: 0.2072 - val_accuracy: 0.9664\n",
            "Epoch 40/50\n",
            "1500/1500 [==============================] - 5s 3ms/step - loss: 0.1760 - accuracy: 0.9746 - val_loss: 0.2022 - val_accuracy: 0.9672\n",
            "Epoch 41/50\n",
            "1500/1500 [==============================] - 5s 3ms/step - loss: 0.1749 - accuracy: 0.9742 - val_loss: 0.2065 - val_accuracy: 0.9655\n",
            "Epoch 42/50\n",
            "1500/1500 [==============================] - 4s 3ms/step - loss: 0.1768 - accuracy: 0.9740 - val_loss: 0.2077 - val_accuracy: 0.9668\n",
            "Epoch 43/50\n",
            "1500/1500 [==============================] - 4s 3ms/step - loss: 0.1761 - accuracy: 0.9739 - val_loss: 0.1935 - val_accuracy: 0.9700\n",
            "Epoch 44/50\n",
            "1500/1500 [==============================] - 4s 3ms/step - loss: 0.1728 - accuracy: 0.9751 - val_loss: 0.2111 - val_accuracy: 0.9658\n",
            "Epoch 45/50\n",
            "1500/1500 [==============================] - 4s 3ms/step - loss: 0.1755 - accuracy: 0.9738 - val_loss: 0.1921 - val_accuracy: 0.9697\n",
            "Epoch 46/50\n",
            "1500/1500 [==============================] - 4s 3ms/step - loss: 0.1758 - accuracy: 0.9739 - val_loss: 0.2057 - val_accuracy: 0.9671\n",
            "Epoch 47/50\n",
            "1500/1500 [==============================] - 4s 3ms/step - loss: 0.1762 - accuracy: 0.9740 - val_loss: 0.1967 - val_accuracy: 0.9712\n",
            "Epoch 48/50\n",
            "1500/1500 [==============================] - 4s 3ms/step - loss: 0.1725 - accuracy: 0.9750 - val_loss: 0.1978 - val_accuracy: 0.9687\n",
            "Epoch 49/50\n",
            "1500/1500 [==============================] - 4s 3ms/step - loss: 0.1721 - accuracy: 0.9747 - val_loss: 0.2117 - val_accuracy: 0.9645\n",
            "Epoch 50/50\n",
            "1500/1500 [==============================] - 4s 3ms/step - loss: 0.1757 - accuracy: 0.9736 - val_loss: 0.1943 - val_accuracy: 0.9689\n"
          ]
        },
        {
          "output_type": "execute_result",
          "data": {
            "text/plain": [
              "<keras.callbacks.History at 0x7fbb90798910>"
            ]
          },
          "metadata": {},
          "execution_count": 37
        }
      ],
      "source": [
        "model.fit(x_train, y_train, epochs=50, validation_split=0.2)"
      ]
    },
    {
      "cell_type": "markdown",
      "metadata": {
        "id": "U8A4zKnEU2QT"
      },
      "source": [
        "95%이상의 성능을 가진 모델을 만들면 완성!"
      ]
    },
    {
      "cell_type": "code",
      "execution_count": 38,
      "metadata": {
        "id": "9Xz0qGifU2QU",
        "colab": {
          "base_uri": "https://localhost:8080/"
        },
        "outputId": "4ee49ef3-dc50-47b4-ad62-e14b1c33c1d6"
      },
      "outputs": [
        {
          "output_type": "stream",
          "name": "stdout",
          "text": [
            "313/313 - 1s - loss: 0.1822 - accuracy: 0.9703 - 744ms/epoch - 2ms/step\n",
            "\n",
            "Accuracy: 0.970300018787384\n"
          ]
        }
      ],
      "source": [
        "test_loss, test_acc = model.evaluate(x_test,y_test, verbose=2)\n",
        "\n",
        "print('\\nAccuracy:', test_acc)"
      ]
    },
    {
      "cell_type": "markdown",
      "metadata": {
        "collapsed": true,
        "id": "EbcuzK_PU2QU"
      },
      "source": [
        "![](https://www.tensorflow.org/versions/master/images/mnist_tensorboard.png)"
      ]
    }
  ],
  "metadata": {
    "accelerator": "GPU",
    "colab": {
      "name": "20기_산업공학과_금종연.ipynb",
      "provenance": []
    },
    "kernelspec": {
      "display_name": "Python 3",
      "language": "python",
      "name": "python3"
    },
    "language_info": {
      "codemirror_mode": {
        "name": "ipython",
        "version": 3
      },
      "file_extension": ".py",
      "mimetype": "text/x-python",
      "name": "python",
      "nbconvert_exporter": "python",
      "pygments_lexer": "ipython3",
      "version": "3.8.8"
    },
    "toc": {
      "base_numbering": 1,
      "nav_menu": {},
      "number_sections": true,
      "sideBar": true,
      "skip_h1_title": false,
      "title_cell": "Table of Contents",
      "title_sidebar": "Contents",
      "toc_cell": false,
      "toc_position": {},
      "toc_section_display": true,
      "toc_window_display": false
    }
  },
  "nbformat": 4,
  "nbformat_minor": 0
}