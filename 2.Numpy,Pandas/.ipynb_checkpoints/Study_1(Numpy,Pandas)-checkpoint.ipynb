{
 "cells": [
  {
   "cell_type": "markdown",
   "id": "6c72aa5c",
   "metadata": {},
   "source": [
    "# Numpy"
   ]
  },
  {
   "cell_type": "markdown",
   "id": "c15e896f",
   "metadata": {},
   "source": [
    "## comparisons"
   ]
  },
  {
   "cell_type": "code",
   "execution_count": 1,
   "id": "7989f00e",
   "metadata": {
    "ExecuteTime": {
     "end_time": "2022-01-17T14:18:38.827013Z",
     "start_time": "2022-01-17T14:18:38.078841Z"
    }
   },
   "outputs": [],
   "source": [
    "import numpy as np"
   ]
  },
  {
   "cell_type": "code",
   "execution_count": 12,
   "id": "d8975105",
   "metadata": {
    "ExecuteTime": {
     "end_time": "2022-01-16T15:46:24.199072Z",
     "start_time": "2022-01-16T15:46:24.193294Z"
    }
   },
   "outputs": [
    {
     "data": {
      "text/plain": [
       "array([0, 1, 2, 3, 4, 5, 6, 7, 8, 9])"
      ]
     },
     "execution_count": 12,
     "metadata": {},
     "output_type": "execute_result"
    }
   ],
   "source": [
    "a = np.arange(10)\n",
    "a"
   ]
  },
  {
   "cell_type": "markdown",
   "id": "3b20a907",
   "metadata": {},
   "source": [
    "### np.any, np.all"
   ]
  },
  {
   "cell_type": "code",
   "execution_count": 9,
   "id": "ad8acbfe",
   "metadata": {
    "ExecuteTime": {
     "end_time": "2022-01-16T15:45:44.743862Z",
     "start_time": "2022-01-16T15:45:44.738731Z"
    }
   },
   "outputs": [
    {
     "data": {
      "text/plain": [
       "(True, False)"
      ]
     },
     "execution_count": 9,
     "metadata": {},
     "output_type": "execute_result"
    }
   ],
   "source": [
    "# 하나라도 조건에 만족한다면 true\n",
    "np.any(a>5), np.any(a<0)"
   ]
  },
  {
   "cell_type": "code",
   "execution_count": 13,
   "id": "268cebc7",
   "metadata": {
    "ExecuteTime": {
     "end_time": "2022-01-16T15:46:30.704825Z",
     "start_time": "2022-01-16T15:46:30.697091Z"
    }
   },
   "outputs": [
    {
     "data": {
      "text/plain": [
       "(True, False)"
      ]
     },
     "execution_count": 13,
     "metadata": {},
     "output_type": "execute_result"
    }
   ],
   "source": [
    "np.any(a==5), np.any(a==12)"
   ]
  },
  {
   "cell_type": "code",
   "execution_count": 14,
   "id": "486186cc",
   "metadata": {
    "ExecuteTime": {
     "end_time": "2022-01-16T15:46:43.846638Z",
     "start_time": "2022-01-16T15:46:43.838742Z"
    }
   },
   "outputs": [
    {
     "data": {
      "text/plain": [
       "(False, True)"
      ]
     },
     "execution_count": 14,
     "metadata": {},
     "output_type": "execute_result"
    }
   ],
   "source": [
    "# 모두가 조건에 만족한다면 true\n",
    "np.all(a>0), np.all(a<10)"
   ]
  },
  {
   "cell_type": "markdown",
   "id": "5d36baa3",
   "metadata": {},
   "source": [
    "### 논리연산"
   ]
  },
  {
   "cell_type": "code",
   "execution_count": 16,
   "id": "6a1a16ef",
   "metadata": {
    "ExecuteTime": {
     "end_time": "2022-01-16T15:51:45.493853Z",
     "start_time": "2022-01-16T15:51:45.487529Z"
    }
   },
   "outputs": [
    {
     "data": {
      "text/plain": [
       "array([ True, False, False])"
      ]
     },
     "execution_count": 16,
     "metadata": {},
     "output_type": "execute_result"
    }
   ],
   "source": [
    "# logical_and\n",
    "a = np.array([1, 3, 0], float)\n",
    "np.logical_and(a>0, a<3)"
   ]
  },
  {
   "cell_type": "code",
   "execution_count": 17,
   "id": "5208f240",
   "metadata": {
    "ExecuteTime": {
     "end_time": "2022-01-16T15:51:46.503356Z",
     "start_time": "2022-01-16T15:51:46.497270Z"
    }
   },
   "outputs": [
    {
     "data": {
      "text/plain": [
       "array([False,  True, False])"
      ]
     },
     "execution_count": 17,
     "metadata": {},
     "output_type": "execute_result"
    }
   ],
   "source": [
    "# logical\n",
    "b = np.array([True, False, True], bool)\n",
    "np.logical_not(b)"
   ]
  },
  {
   "cell_type": "code",
   "execution_count": 18,
   "id": "60c885a5",
   "metadata": {
    "ExecuteTime": {
     "end_time": "2022-01-16T15:52:46.572136Z",
     "start_time": "2022-01-16T15:52:46.566357Z"
    }
   },
   "outputs": [
    {
     "data": {
      "text/plain": [
       "array([ True,  True,  True])"
      ]
     },
     "execution_count": 18,
     "metadata": {},
     "output_type": "execute_result"
    }
   ],
   "source": [
    "c = np.array([False, True, False], bool)\n",
    "np.logical_or(b,c)"
   ]
  },
  {
   "cell_type": "code",
   "execution_count": 23,
   "id": "85ba6ea9",
   "metadata": {
    "ExecuteTime": {
     "end_time": "2022-01-16T15:55:57.338269Z",
     "start_time": "2022-01-16T15:55:57.331674Z"
    }
   },
   "outputs": [
    {
     "data": {
      "text/plain": [
       "array([[ True, False,  True],\n",
       "       [False,  True,  True]])"
      ]
     },
     "execution_count": 23,
     "metadata": {},
     "output_type": "execute_result"
    }
   ],
   "source": [
    "# ndarray 논리 연산\n",
    "x1 = np.array([\n",
    "    [1, 0, 1],\n",
    "    [0, 1, 1]\n",
    "], bool)\n",
    "x1"
   ]
  },
  {
   "cell_type": "code",
   "execution_count": 27,
   "id": "e703b9bc",
   "metadata": {
    "ExecuteTime": {
     "end_time": "2022-01-16T15:58:35.656978Z",
     "start_time": "2022-01-16T15:58:35.650515Z"
    }
   },
   "outputs": [
    {
     "data": {
      "text/plain": [
       "array([[1, 1, 1],\n",
       "       [0, 1, 0]])"
      ]
     },
     "execution_count": 27,
     "metadata": {},
     "output_type": "execute_result"
    }
   ],
   "source": [
    "x2 = np.array([\n",
    "    [1, 1, 1],\n",
    "    [0, 1, 0]\n",
    "])\n",
    "x2"
   ]
  },
  {
   "cell_type": "code",
   "execution_count": 30,
   "id": "3497d19b",
   "metadata": {
    "ExecuteTime": {
     "end_time": "2022-01-16T15:59:50.047622Z",
     "start_time": "2022-01-16T15:59:50.042043Z"
    }
   },
   "outputs": [
    {
     "name": "stdout",
     "output_type": "stream",
     "text": [
      "[[ True False  True]\n",
      " [False  True False]]\n",
      "[[1 0 1]\n",
      " [0 1 0]]\n"
     ]
    }
   ],
   "source": [
    "print(np.logical_and(x1, x2))\n",
    "print(np.logical_and(x1, x2) * x2)"
   ]
  },
  {
   "cell_type": "markdown",
   "id": "34e8eb26",
   "metadata": {},
   "source": [
    "### np.where"
   ]
  },
  {
   "cell_type": "code",
   "execution_count": 62,
   "id": "af78948e",
   "metadata": {
    "ExecuteTime": {
     "end_time": "2022-01-16T17:16:18.061053Z",
     "start_time": "2022-01-16T17:16:18.054357Z"
    }
   },
   "outputs": [
    {
     "data": {
      "text/plain": [
       "array([3, 2, 3, 3, 2])"
      ]
     },
     "execution_count": 62,
     "metadata": {},
     "output_type": "execute_result"
    }
   ],
   "source": [
    "a = np.array([3, 0, 4, 5, 0])\n",
    "np.where(a>0, 3, 2) # where(condition, True ,False)"
   ]
  },
  {
   "cell_type": "code",
   "execution_count": 36,
   "id": "61d62c7b",
   "metadata": {
    "ExecuteTime": {
     "end_time": "2022-01-16T16:07:54.688472Z",
     "start_time": "2022-01-16T16:07:54.682523Z"
    }
   },
   "outputs": [
    {
     "data": {
      "text/plain": [
       "array([False,  True, False,  True, False])"
      ]
     },
     "execution_count": 36,
     "metadata": {},
     "output_type": "execute_result"
    }
   ],
   "source": [
    "a = np.array([1, np.NaN, np.Inf, np.NaN, np.Inf], float)\n",
    "np.isnan(a)"
   ]
  },
  {
   "cell_type": "code",
   "execution_count": 38,
   "id": "ad0e2dcd",
   "metadata": {
    "ExecuteTime": {
     "end_time": "2022-01-16T16:09:22.735352Z",
     "start_time": "2022-01-16T16:09:22.729204Z"
    }
   },
   "outputs": [
    {
     "name": "stdout",
     "output_type": "stream",
     "text": [
      "[ True False False False False]\n"
     ]
    }
   ],
   "source": [
    "print(np.isfinite(a))"
   ]
  },
  {
   "cell_type": "markdown",
   "id": "e9ab2ee8",
   "metadata": {},
   "source": [
    "### argmax, argmin"
   ]
  },
  {
   "cell_type": "code",
   "execution_count": 39,
   "id": "02cc2b08",
   "metadata": {
    "ExecuteTime": {
     "end_time": "2022-01-16T16:14:29.674881Z",
     "start_time": "2022-01-16T16:14:29.671021Z"
    }
   },
   "outputs": [],
   "source": [
    "a = np.array([1, 3, 4, 5, 6,32, 4, 5, 5, 6])"
   ]
  },
  {
   "cell_type": "code",
   "execution_count": 40,
   "id": "1cb33620",
   "metadata": {
    "ExecuteTime": {
     "end_time": "2022-01-16T16:15:01.477315Z",
     "start_time": "2022-01-16T16:15:01.470838Z"
    }
   },
   "outputs": [
    {
     "data": {
      "text/plain": [
       "(5, 0)"
      ]
     },
     "execution_count": 40,
     "metadata": {},
     "output_type": "execute_result"
    }
   ],
   "source": [
    "np.argmax(a), np.argmin(a)"
   ]
  },
  {
   "cell_type": "code",
   "execution_count": 41,
   "id": "6ec4c044",
   "metadata": {
    "ExecuteTime": {
     "end_time": "2022-01-16T16:16:23.068056Z",
     "start_time": "2022-01-16T16:16:23.056059Z"
    }
   },
   "outputs": [
    {
     "data": {
      "text/plain": [
       "(array([3, 1, 0]), array([2, 1, 1, 2]))"
      ]
     },
     "execution_count": 41,
     "metadata": {},
     "output_type": "execute_result"
    }
   ],
   "source": [
    "a = np.array([[1, 3, 4, 5], \n",
    "              [9, 89, 8, 3], \n",
    "              [45, 5, 6, 7]\n",
    "             ])\n",
    "np.argmax(a, axis=1), np.argmax(a, axis=0)"
   ]
  },
  {
   "cell_type": "markdown",
   "id": "dbbd495d",
   "metadata": {},
   "source": [
    "## fancy indexing"
   ]
  },
  {
   "cell_type": "code",
   "execution_count": 42,
   "id": "14c971c2",
   "metadata": {
    "ExecuteTime": {
     "end_time": "2022-01-16T16:19:43.843790Z",
     "start_time": "2022-01-16T16:19:43.837596Z"
    }
   },
   "outputs": [],
   "source": [
    "# matrix 형태의 데이터도 가능"
   ]
  },
  {
   "cell_type": "code",
   "execution_count": 43,
   "id": "109a678a",
   "metadata": {
    "ExecuteTime": {
     "end_time": "2022-01-16T16:21:35.215984Z",
     "start_time": "2022-01-16T16:21:35.202780Z"
    }
   },
   "outputs": [
    {
     "data": {
      "text/plain": [
       "array([1., 3., 4., 5., 3.])"
      ]
     },
     "execution_count": 43,
     "metadata": {},
     "output_type": "execute_result"
    }
   ],
   "source": [
    "a = np.array([[1,3], [4,5]], float)\n",
    "b = np.array([0, 0, 1, 1, 0], int)\n",
    "c = np.array([0, 1, 0, 1, 1], int)\n",
    "\n",
    "a[b,c]"
   ]
  },
  {
   "cell_type": "code",
   "execution_count": 45,
   "id": "f44ad58e",
   "metadata": {
    "ExecuteTime": {
     "end_time": "2022-01-16T16:34:29.415029Z",
     "start_time": "2022-01-16T16:34:29.405781Z"
    }
   },
   "outputs": [
    {
     "data": {
      "text/plain": [
       "array([1., 3., 4., 5.])"
      ]
     },
     "execution_count": 45,
     "metadata": {},
     "output_type": "execute_result"
    }
   ],
   "source": [
    "### 번외\n",
    "a.flatten()"
   ]
  },
  {
   "cell_type": "markdown",
   "id": "9441b1e7",
   "metadata": {},
   "source": [
    "## Problem"
   ]
  },
  {
   "cell_type": "markdown",
   "id": "864eeb8b",
   "metadata": {},
   "source": [
    "### "
   ]
  },
  {
   "cell_type": "markdown",
   "id": "a7329e11",
   "metadata": {},
   "source": [
    "- 함수목적\n",
    "\n",
    "shape이 지정된 크기의 ndarray를 생성, 이때 행렬의 element는 type에 따라 0, 1 또는 empty로 생성됨.\n",
    "\n",
    "- Args\n",
    "\n",
    "shape: 생성할려는 ndarray의 shape\n",
    "\n",
    "type: 생성되는 element들의 값을 지정함0은 0, 1은 1, 99는 empty 타입으로 생성됨\n",
    "\n",
    "dtype: 생성하려는 ndarray의 data type (np.int)\n",
    "\n",
    "- Returns\n",
    "\n",
    "shape의 크기로 생성된 ndarray로 type에 따라 element의 내용이 변경됨\n"
   ]
  },
  {
   "cell_type": "code",
   "execution_count": 56,
   "id": "d220156f",
   "metadata": {
    "ExecuteTime": {
     "end_time": "2022-01-16T17:00:15.872167Z",
     "start_time": "2022-01-16T17:00:15.866901Z"
    }
   },
   "outputs": [],
   "source": [
    "def zero_or_one_or_empty_ndarray(shape, type=0, dtype=np.int64):\n",
    "    pass"
   ]
  },
  {
   "cell_type": "markdown",
   "id": "24df21a7",
   "metadata": {},
   "source": [
    "### "
   ]
  },
  {
   "cell_type": "markdown",
   "id": "82dc5eff",
   "metadata": {},
   "source": [
    "-함수목적\n",
    "\n",
    "입력된 vector type의 ndarray X에서 target_value와 가장 차이가 작게나는 element를 찾아 리턴함\n",
    "\n",
    "이때 X를 list로 변경하여 처리하는 것은 실패로 간주함.\n",
    "\n",
    "-Args\n",
    "\n",
    "X: 입력하는 vector type의 ndarray\n",
    "\n",
    "target_value : 가장 유사한 값의 기준값이 되는 값\n",
    "\n",
    "-Returns\n",
    "\n",
    "target_value와 가장 유사한 값"
   ]
  },
  {
   "cell_type": "code",
   "execution_count": 57,
   "id": "5201e0b9",
   "metadata": {
    "ExecuteTime": {
     "end_time": "2022-01-16T17:02:00.617374Z",
     "start_time": "2022-01-16T17:02:00.614530Z"
    }
   },
   "outputs": [],
   "source": [
    "def find_nearest_value(X, target_value):\n",
    "    pass"
   ]
  },
  {
   "cell_type": "markdown",
   "id": "fb39c0f4",
   "metadata": {},
   "source": [
    ".\n",
    ".\n",
    "\n",
    ".\n",
    ".\n",
    ".\n",
    "\n",
    ".\n",
    ".\n",
    ".\n",
    ".\n",
    ".\n",
    ".\n",
    ".\n",
    ".\n",
    "\n",
    "..\n",
    "\n",
    ".\n",
    ".\n",
    ".\n",
    ".\n",
    "\n",
    "...\n",
    ".\n",
    ".\n",
    ".\n",
    "\n",
    "..\n",
    ".\n",
    ".\n",
    "\n",
    ".\n",
    ".\n",
    "\n",
    "\n",
    ".\n",
    ".\n",
    ".\n",
    ".\n",
    ".\n",
    ".\n",
    ".\n",
    "\n",
    "\n",
    ".\n",
    ".\n",
    "\n",
    "\n",
    "\n",
    ".\n",
    "..\n"
   ]
  },
  {
   "cell_type": "code",
   "execution_count": null,
   "id": "225c15e0",
   "metadata": {},
   "outputs": [],
   "source": [
    "def zero_or_one_or_empty_ndarray(shape, type=0, dtype=np.int64):\n",
    "    if type == 0 :\n",
    "        return np.zeros(shape = shape, dtype = dtype)\n",
    "    if type == 1 :\n",
    "        return np.ones(shape = shape, dtype = dtype)\n",
    "    if type == 99 :\n",
    "        return np.empty(shape = shape, dtype = dtype)"
   ]
  },
  {
   "cell_type": "code",
   "execution_count": null,
   "id": "3929aa39",
   "metadata": {},
   "outputs": [],
   "source": [
    "zero_or_one_or_empty_ndarray((3,4), 99)"
   ]
  },
  {
   "cell_type": "code",
   "execution_count": 70,
   "id": "5c56df63",
   "metadata": {
    "ExecuteTime": {
     "end_time": "2022-01-16T17:21:37.386918Z",
     "start_time": "2022-01-16T17:21:37.383286Z"
    }
   },
   "outputs": [],
   "source": [
    "def find_nearest_value(X, target_value):\n",
    "    return X[np.argmin(np.abs(X-target_value))]"
   ]
  },
  {
   "cell_type": "code",
   "execution_count": 71,
   "id": "62fa8b2a",
   "metadata": {
    "ExecuteTime": {
     "end_time": "2022-01-16T17:21:39.304752Z",
     "start_time": "2022-01-16T17:21:39.297599Z"
    }
   },
   "outputs": [
    {
     "data": {
      "text/plain": [
       "0.3042867990318574"
      ]
     },
     "execution_count": 71,
     "metadata": {},
     "output_type": "execute_result"
    }
   ],
   "source": [
    "X = np.random.uniform(0, 1, 100)\n",
    "find_nearest_value(X, 0.3)"
   ]
  },
  {
   "cell_type": "markdown",
   "id": "418e3143",
   "metadata": {},
   "source": [
    "# Pandas"
   ]
  },
  {
   "cell_type": "markdown",
   "id": "aa9b4dab",
   "metadata": {},
   "source": [
    "## Air-passengers"
   ]
  },
  {
   "cell_type": "markdown",
   "id": "ddc19175",
   "metadata": {},
   "source": [
    "https://www.kaggle.com/rakannimer/air-passengers"
   ]
  },
  {
   "cell_type": "markdown",
   "id": "69e623ac",
   "metadata": {},
   "source": [
    "1) 승객들의 누적 합, 누적 최댓값, 누적 최솟값\n",
    "2) Month 열을 year과 month로 쪼갬.\n",
    "3) 승객들의 저번달 대비 증가율을 pct라는 열로 표현."
   ]
  },
  {
   "cell_type": "code",
   "execution_count": 78,
   "id": "97c08dc4",
   "metadata": {
    "ExecuteTime": {
     "end_time": "2022-01-16T17:40:38.998894Z",
     "start_time": "2022-01-16T17:40:38.686728Z"
    }
   },
   "outputs": [],
   "source": [
    "import pandas as pd"
   ]
  },
  {
   "cell_type": "code",
   "execution_count": 79,
   "id": "9b8d13c9",
   "metadata": {
    "ExecuteTime": {
     "end_time": "2022-01-16T17:42:09.822083Z",
     "start_time": "2022-01-16T17:42:09.776001Z"
    }
   },
   "outputs": [
    {
     "data": {
      "text/html": [
       "<div>\n",
       "<style scoped>\n",
       "    .dataframe tbody tr th:only-of-type {\n",
       "        vertical-align: middle;\n",
       "    }\n",
       "\n",
       "    .dataframe tbody tr th {\n",
       "        vertical-align: top;\n",
       "    }\n",
       "\n",
       "    .dataframe thead th {\n",
       "        text-align: right;\n",
       "    }\n",
       "</style>\n",
       "<table border=\"1\" class=\"dataframe\">\n",
       "  <thead>\n",
       "    <tr style=\"text-align: right;\">\n",
       "      <th></th>\n",
       "      <th>Month</th>\n",
       "      <th>#Passengers</th>\n",
       "    </tr>\n",
       "  </thead>\n",
       "  <tbody>\n",
       "    <tr>\n",
       "      <th>0</th>\n",
       "      <td>1949-01</td>\n",
       "      <td>112</td>\n",
       "    </tr>\n",
       "    <tr>\n",
       "      <th>1</th>\n",
       "      <td>1949-02</td>\n",
       "      <td>118</td>\n",
       "    </tr>\n",
       "    <tr>\n",
       "      <th>2</th>\n",
       "      <td>1949-03</td>\n",
       "      <td>132</td>\n",
       "    </tr>\n",
       "    <tr>\n",
       "      <th>3</th>\n",
       "      <td>1949-04</td>\n",
       "      <td>129</td>\n",
       "    </tr>\n",
       "    <tr>\n",
       "      <th>4</th>\n",
       "      <td>1949-05</td>\n",
       "      <td>121</td>\n",
       "    </tr>\n",
       "  </tbody>\n",
       "</table>\n",
       "</div>"
      ],
      "text/plain": [
       "     Month  #Passengers\n",
       "0  1949-01          112\n",
       "1  1949-02          118\n",
       "2  1949-03          132\n",
       "3  1949-04          129\n",
       "4  1949-05          121"
      ]
     },
     "execution_count": 79,
     "metadata": {},
     "output_type": "execute_result"
    }
   ],
   "source": [
    "df_time_series = pd.read_csv(\"/Users/geumjong-yeon/Desktop/YbigtaSession/AirPassengers.csv\")\n",
    "df_time_series.head()"
   ]
  },
  {
   "cell_type": "code",
   "execution_count": 80,
   "id": "dac28e96",
   "metadata": {
    "ExecuteTime": {
     "end_time": "2022-01-16T17:42:47.206102Z",
     "start_time": "2022-01-16T17:42:47.190158Z"
    }
   },
   "outputs": [
    {
     "data": {
      "text/html": [
       "<div>\n",
       "<style scoped>\n",
       "    .dataframe tbody tr th:only-of-type {\n",
       "        vertical-align: middle;\n",
       "    }\n",
       "\n",
       "    .dataframe tbody tr th {\n",
       "        vertical-align: top;\n",
       "    }\n",
       "\n",
       "    .dataframe thead th {\n",
       "        text-align: right;\n",
       "    }\n",
       "</style>\n",
       "<table border=\"1\" class=\"dataframe\">\n",
       "  <thead>\n",
       "    <tr style=\"text-align: right;\">\n",
       "      <th></th>\n",
       "      <th>Month</th>\n",
       "      <th>#Passengers</th>\n",
       "      <th>step</th>\n",
       "    </tr>\n",
       "  </thead>\n",
       "  <tbody>\n",
       "    <tr>\n",
       "      <th>0</th>\n",
       "      <td>1949-01</td>\n",
       "      <td>112</td>\n",
       "      <td>0</td>\n",
       "    </tr>\n",
       "    <tr>\n",
       "      <th>1</th>\n",
       "      <td>1949-02</td>\n",
       "      <td>118</td>\n",
       "      <td>1</td>\n",
       "    </tr>\n",
       "    <tr>\n",
       "      <th>2</th>\n",
       "      <td>1949-03</td>\n",
       "      <td>132</td>\n",
       "      <td>2</td>\n",
       "    </tr>\n",
       "    <tr>\n",
       "      <th>3</th>\n",
       "      <td>1949-04</td>\n",
       "      <td>129</td>\n",
       "      <td>3</td>\n",
       "    </tr>\n",
       "    <tr>\n",
       "      <th>4</th>\n",
       "      <td>1949-05</td>\n",
       "      <td>121</td>\n",
       "      <td>4</td>\n",
       "    </tr>\n",
       "  </tbody>\n",
       "</table>\n",
       "</div>"
      ],
      "text/plain": [
       "     Month  #Passengers  step\n",
       "0  1949-01          112     0\n",
       "1  1949-02          118     1\n",
       "2  1949-03          132     2\n",
       "3  1949-04          129     3\n",
       "4  1949-05          121     4"
      ]
     },
     "execution_count": 80,
     "metadata": {},
     "output_type": "execute_result"
    }
   ],
   "source": [
    "df_time_series['step'] = range(len(df_time_series))\n",
    "df_time_series.head()"
   ]
  },
  {
   "cell_type": "code",
   "execution_count": 81,
   "id": "72e10063",
   "metadata": {
    "ExecuteTime": {
     "end_time": "2022-01-16T17:55:28.126892Z",
     "start_time": "2022-01-16T17:55:28.100138Z"
    }
   },
   "outputs": [
    {
     "data": {
      "text/html": [
       "<div>\n",
       "<style scoped>\n",
       "    .dataframe tbody tr th:only-of-type {\n",
       "        vertical-align: middle;\n",
       "    }\n",
       "\n",
       "    .dataframe tbody tr th {\n",
       "        vertical-align: top;\n",
       "    }\n",
       "\n",
       "    .dataframe thead th {\n",
       "        text-align: right;\n",
       "    }\n",
       "</style>\n",
       "<table border=\"1\" class=\"dataframe\">\n",
       "  <thead>\n",
       "    <tr style=\"text-align: right;\">\n",
       "      <th></th>\n",
       "      <th>Month</th>\n",
       "      <th>#Passengers</th>\n",
       "      <th>step</th>\n",
       "      <th>cum_sum</th>\n",
       "      <th>cum_max</th>\n",
       "      <th>cum_min</th>\n",
       "    </tr>\n",
       "  </thead>\n",
       "  <tbody>\n",
       "    <tr>\n",
       "      <th>0</th>\n",
       "      <td>1949-01</td>\n",
       "      <td>112</td>\n",
       "      <td>0</td>\n",
       "      <td>112</td>\n",
       "      <td>112</td>\n",
       "      <td>112</td>\n",
       "    </tr>\n",
       "    <tr>\n",
       "      <th>1</th>\n",
       "      <td>1949-02</td>\n",
       "      <td>118</td>\n",
       "      <td>1</td>\n",
       "      <td>230</td>\n",
       "      <td>118</td>\n",
       "      <td>112</td>\n",
       "    </tr>\n",
       "    <tr>\n",
       "      <th>2</th>\n",
       "      <td>1949-03</td>\n",
       "      <td>132</td>\n",
       "      <td>2</td>\n",
       "      <td>362</td>\n",
       "      <td>132</td>\n",
       "      <td>112</td>\n",
       "    </tr>\n",
       "    <tr>\n",
       "      <th>3</th>\n",
       "      <td>1949-04</td>\n",
       "      <td>129</td>\n",
       "      <td>3</td>\n",
       "      <td>491</td>\n",
       "      <td>132</td>\n",
       "      <td>112</td>\n",
       "    </tr>\n",
       "    <tr>\n",
       "      <th>4</th>\n",
       "      <td>1949-05</td>\n",
       "      <td>121</td>\n",
       "      <td>4</td>\n",
       "      <td>612</td>\n",
       "      <td>132</td>\n",
       "      <td>112</td>\n",
       "    </tr>\n",
       "  </tbody>\n",
       "</table>\n",
       "</div>"
      ],
      "text/plain": [
       "     Month  #Passengers  step  cum_sum  cum_max  cum_min\n",
       "0  1949-01          112     0      112      112      112\n",
       "1  1949-02          118     1      230      118      112\n",
       "2  1949-03          132     2      362      132      112\n",
       "3  1949-04          129     3      491      132      112\n",
       "4  1949-05          121     4      612      132      112"
      ]
     },
     "execution_count": 81,
     "metadata": {},
     "output_type": "execute_result"
    }
   ],
   "source": [
    "df_time_series[\"cum_sum\"] = df_time_series[\"#Passengers\"].cumsum()\n",
    "df_time_series[\"cum_max\"] = df_time_series[\"#Passengers\"].cummax()\n",
    "df_time_series[\"cum_min\"] = df_time_series[\"#Passengers\"].cummin()\n",
    "df_time_series.head()"
   ]
  },
  {
   "cell_type": "code",
   "execution_count": 86,
   "id": "29d15340",
   "metadata": {
    "ExecuteTime": {
     "end_time": "2022-01-16T17:57:57.569274Z",
     "start_time": "2022-01-16T17:57:57.562938Z"
    }
   },
   "outputs": [
    {
     "name": "stdout",
     "output_type": "stream",
     "text": [
      "[['1949' '01']\n",
      " ['1949' '02']\n",
      " ['1949' '03']\n",
      " ['1949' '04']\n",
      " ['1949' '05']]\n"
     ]
    }
   ],
   "source": [
    "import numpy as np\n",
    "temp_date = df_time_series[\"Month\"].map(lambda x : x.split(\"-\"))\n",
    "temp_date = np.array(temp_date.values.tolist())\n",
    "print(temp_date[:5])"
   ]
  },
  {
   "cell_type": "code",
   "execution_count": 88,
   "id": "b870de33",
   "metadata": {
    "ExecuteTime": {
     "end_time": "2022-01-16T17:58:53.700326Z",
     "start_time": "2022-01-16T17:58:53.690956Z"
    }
   },
   "outputs": [],
   "source": [
    "df_time_series[\"year\"] = temp_date[:, 0] # 첫번째 열\n",
    "df_time_series[\"month\"] = temp_date[:, 1] # 두번째 열"
   ]
  },
  {
   "cell_type": "code",
   "execution_count": 90,
   "id": "6e11e25a",
   "metadata": {
    "ExecuteTime": {
     "end_time": "2022-01-16T17:59:06.656356Z",
     "start_time": "2022-01-16T17:59:06.638900Z"
    }
   },
   "outputs": [
    {
     "data": {
      "text/html": [
       "<div>\n",
       "<style scoped>\n",
       "    .dataframe tbody tr th:only-of-type {\n",
       "        vertical-align: middle;\n",
       "    }\n",
       "\n",
       "    .dataframe tbody tr th {\n",
       "        vertical-align: top;\n",
       "    }\n",
       "\n",
       "    .dataframe thead th {\n",
       "        text-align: right;\n",
       "    }\n",
       "</style>\n",
       "<table border=\"1\" class=\"dataframe\">\n",
       "  <thead>\n",
       "    <tr style=\"text-align: right;\">\n",
       "      <th></th>\n",
       "      <th>Month</th>\n",
       "      <th>#Passengers</th>\n",
       "      <th>step</th>\n",
       "      <th>cum_sum</th>\n",
       "      <th>cum_max</th>\n",
       "      <th>cum_min</th>\n",
       "      <th>year</th>\n",
       "      <th>month</th>\n",
       "    </tr>\n",
       "  </thead>\n",
       "  <tbody>\n",
       "    <tr>\n",
       "      <th>0</th>\n",
       "      <td>1949-01</td>\n",
       "      <td>112</td>\n",
       "      <td>0</td>\n",
       "      <td>112</td>\n",
       "      <td>112</td>\n",
       "      <td>112</td>\n",
       "      <td>1949</td>\n",
       "      <td>01</td>\n",
       "    </tr>\n",
       "    <tr>\n",
       "      <th>1</th>\n",
       "      <td>1949-02</td>\n",
       "      <td>118</td>\n",
       "      <td>1</td>\n",
       "      <td>230</td>\n",
       "      <td>118</td>\n",
       "      <td>112</td>\n",
       "      <td>1949</td>\n",
       "      <td>02</td>\n",
       "    </tr>\n",
       "    <tr>\n",
       "      <th>2</th>\n",
       "      <td>1949-03</td>\n",
       "      <td>132</td>\n",
       "      <td>2</td>\n",
       "      <td>362</td>\n",
       "      <td>132</td>\n",
       "      <td>112</td>\n",
       "      <td>1949</td>\n",
       "      <td>03</td>\n",
       "    </tr>\n",
       "    <tr>\n",
       "      <th>3</th>\n",
       "      <td>1949-04</td>\n",
       "      <td>129</td>\n",
       "      <td>3</td>\n",
       "      <td>491</td>\n",
       "      <td>132</td>\n",
       "      <td>112</td>\n",
       "      <td>1949</td>\n",
       "      <td>04</td>\n",
       "    </tr>\n",
       "    <tr>\n",
       "      <th>4</th>\n",
       "      <td>1949-05</td>\n",
       "      <td>121</td>\n",
       "      <td>4</td>\n",
       "      <td>612</td>\n",
       "      <td>132</td>\n",
       "      <td>112</td>\n",
       "      <td>1949</td>\n",
       "      <td>05</td>\n",
       "    </tr>\n",
       "  </tbody>\n",
       "</table>\n",
       "</div>"
      ],
      "text/plain": [
       "     Month  #Passengers  step  cum_sum  cum_max  cum_min  year month\n",
       "0  1949-01          112     0      112      112      112  1949    01\n",
       "1  1949-02          118     1      230      118      112  1949    02\n",
       "2  1949-03          132     2      362      132      112  1949    03\n",
       "3  1949-04          129     3      491      132      112  1949    04\n",
       "4  1949-05          121     4      612      132      112  1949    05"
      ]
     },
     "execution_count": 90,
     "metadata": {},
     "output_type": "execute_result"
    }
   ],
   "source": [
    "df_time_series.head()"
   ]
  },
  {
   "cell_type": "code",
   "execution_count": 91,
   "id": "e7f3b34d",
   "metadata": {
    "ExecuteTime": {
     "end_time": "2022-01-16T17:59:14.120126Z",
     "start_time": "2022-01-16T17:59:14.094287Z"
    }
   },
   "outputs": [
    {
     "data": {
      "text/html": [
       "<div>\n",
       "<style scoped>\n",
       "    .dataframe tbody tr th:only-of-type {\n",
       "        vertical-align: middle;\n",
       "    }\n",
       "\n",
       "    .dataframe tbody tr th {\n",
       "        vertical-align: top;\n",
       "    }\n",
       "\n",
       "    .dataframe thead th {\n",
       "        text-align: right;\n",
       "    }\n",
       "</style>\n",
       "<table border=\"1\" class=\"dataframe\">\n",
       "  <thead>\n",
       "    <tr style=\"text-align: right;\">\n",
       "      <th></th>\n",
       "      <th>Month</th>\n",
       "      <th>#Passengers</th>\n",
       "      <th>step</th>\n",
       "      <th>cum_sum</th>\n",
       "      <th>cum_max</th>\n",
       "      <th>cum_min</th>\n",
       "      <th>year</th>\n",
       "      <th>month</th>\n",
       "      <th>diff</th>\n",
       "    </tr>\n",
       "  </thead>\n",
       "  <tbody>\n",
       "    <tr>\n",
       "      <th>0</th>\n",
       "      <td>1949-01</td>\n",
       "      <td>112</td>\n",
       "      <td>0</td>\n",
       "      <td>112</td>\n",
       "      <td>112</td>\n",
       "      <td>112</td>\n",
       "      <td>1949</td>\n",
       "      <td>01</td>\n",
       "      <td>0.0</td>\n",
       "    </tr>\n",
       "    <tr>\n",
       "      <th>1</th>\n",
       "      <td>1949-02</td>\n",
       "      <td>118</td>\n",
       "      <td>1</td>\n",
       "      <td>230</td>\n",
       "      <td>118</td>\n",
       "      <td>112</td>\n",
       "      <td>1949</td>\n",
       "      <td>02</td>\n",
       "      <td>6.0</td>\n",
       "    </tr>\n",
       "    <tr>\n",
       "      <th>2</th>\n",
       "      <td>1949-03</td>\n",
       "      <td>132</td>\n",
       "      <td>2</td>\n",
       "      <td>362</td>\n",
       "      <td>132</td>\n",
       "      <td>112</td>\n",
       "      <td>1949</td>\n",
       "      <td>03</td>\n",
       "      <td>14.0</td>\n",
       "    </tr>\n",
       "    <tr>\n",
       "      <th>3</th>\n",
       "      <td>1949-04</td>\n",
       "      <td>129</td>\n",
       "      <td>3</td>\n",
       "      <td>491</td>\n",
       "      <td>132</td>\n",
       "      <td>112</td>\n",
       "      <td>1949</td>\n",
       "      <td>04</td>\n",
       "      <td>-3.0</td>\n",
       "    </tr>\n",
       "    <tr>\n",
       "      <th>4</th>\n",
       "      <td>1949-05</td>\n",
       "      <td>121</td>\n",
       "      <td>4</td>\n",
       "      <td>612</td>\n",
       "      <td>132</td>\n",
       "      <td>112</td>\n",
       "      <td>1949</td>\n",
       "      <td>05</td>\n",
       "      <td>-8.0</td>\n",
       "    </tr>\n",
       "  </tbody>\n",
       "</table>\n",
       "</div>"
      ],
      "text/plain": [
       "     Month  #Passengers  step  cum_sum  cum_max  cum_min  year month  diff\n",
       "0  1949-01          112     0      112      112      112  1949    01   0.0\n",
       "1  1949-02          118     1      230      118      112  1949    02   6.0\n",
       "2  1949-03          132     2      362      132      112  1949    03  14.0\n",
       "3  1949-04          129     3      491      132      112  1949    04  -3.0\n",
       "4  1949-05          121     4      612      132      112  1949    05  -8.0"
      ]
     },
     "execution_count": 91,
     "metadata": {},
     "output_type": "execute_result"
    }
   ],
   "source": [
    "df_time_series[\"diff\"] = df_time_series[\"#Passengers\"].diff().fillna(0)\n",
    "df_time_series[:5]"
   ]
  },
  {
   "cell_type": "code",
   "execution_count": 98,
   "id": "d79e0e4b",
   "metadata": {
    "ExecuteTime": {
     "end_time": "2022-01-16T18:03:44.306183Z",
     "start_time": "2022-01-16T18:03:44.282671Z"
    }
   },
   "outputs": [],
   "source": [
    "df_time_series[\"pct\"]= df_time_series[\"#Passengers\"].pct_change().map(lambda x: \"{:.2f}\".format(x * 100))"
   ]
  },
  {
   "cell_type": "code",
   "execution_count": 99,
   "id": "86debecc",
   "metadata": {
    "ExecuteTime": {
     "end_time": "2022-01-16T18:03:44.897415Z",
     "start_time": "2022-01-16T18:03:44.869854Z"
    }
   },
   "outputs": [
    {
     "data": {
      "text/html": [
       "<div>\n",
       "<style scoped>\n",
       "    .dataframe tbody tr th:only-of-type {\n",
       "        vertical-align: middle;\n",
       "    }\n",
       "\n",
       "    .dataframe tbody tr th {\n",
       "        vertical-align: top;\n",
       "    }\n",
       "\n",
       "    .dataframe thead th {\n",
       "        text-align: right;\n",
       "    }\n",
       "</style>\n",
       "<table border=\"1\" class=\"dataframe\">\n",
       "  <thead>\n",
       "    <tr style=\"text-align: right;\">\n",
       "      <th></th>\n",
       "      <th>Month</th>\n",
       "      <th>#Passengers</th>\n",
       "      <th>step</th>\n",
       "      <th>cum_sum</th>\n",
       "      <th>cum_max</th>\n",
       "      <th>cum_min</th>\n",
       "      <th>year</th>\n",
       "      <th>month</th>\n",
       "      <th>diff</th>\n",
       "      <th>pct</th>\n",
       "    </tr>\n",
       "  </thead>\n",
       "  <tbody>\n",
       "    <tr>\n",
       "      <th>0</th>\n",
       "      <td>1949-01</td>\n",
       "      <td>112</td>\n",
       "      <td>0</td>\n",
       "      <td>112</td>\n",
       "      <td>112</td>\n",
       "      <td>112</td>\n",
       "      <td>1949</td>\n",
       "      <td>01</td>\n",
       "      <td>0.0</td>\n",
       "      <td>nan</td>\n",
       "    </tr>\n",
       "    <tr>\n",
       "      <th>1</th>\n",
       "      <td>1949-02</td>\n",
       "      <td>118</td>\n",
       "      <td>1</td>\n",
       "      <td>230</td>\n",
       "      <td>118</td>\n",
       "      <td>112</td>\n",
       "      <td>1949</td>\n",
       "      <td>02</td>\n",
       "      <td>6.0</td>\n",
       "      <td>5.36</td>\n",
       "    </tr>\n",
       "    <tr>\n",
       "      <th>2</th>\n",
       "      <td>1949-03</td>\n",
       "      <td>132</td>\n",
       "      <td>2</td>\n",
       "      <td>362</td>\n",
       "      <td>132</td>\n",
       "      <td>112</td>\n",
       "      <td>1949</td>\n",
       "      <td>03</td>\n",
       "      <td>14.0</td>\n",
       "      <td>11.86</td>\n",
       "    </tr>\n",
       "    <tr>\n",
       "      <th>3</th>\n",
       "      <td>1949-04</td>\n",
       "      <td>129</td>\n",
       "      <td>3</td>\n",
       "      <td>491</td>\n",
       "      <td>132</td>\n",
       "      <td>112</td>\n",
       "      <td>1949</td>\n",
       "      <td>04</td>\n",
       "      <td>-3.0</td>\n",
       "      <td>-2.27</td>\n",
       "    </tr>\n",
       "    <tr>\n",
       "      <th>4</th>\n",
       "      <td>1949-05</td>\n",
       "      <td>121</td>\n",
       "      <td>4</td>\n",
       "      <td>612</td>\n",
       "      <td>132</td>\n",
       "      <td>112</td>\n",
       "      <td>1949</td>\n",
       "      <td>05</td>\n",
       "      <td>-8.0</td>\n",
       "      <td>-6.20</td>\n",
       "    </tr>\n",
       "  </tbody>\n",
       "</table>\n",
       "</div>"
      ],
      "text/plain": [
       "     Month  #Passengers  step  cum_sum  cum_max  cum_min  year month  diff  \\\n",
       "0  1949-01          112     0      112      112      112  1949    01   0.0   \n",
       "1  1949-02          118     1      230      118      112  1949    02   6.0   \n",
       "2  1949-03          132     2      362      132      112  1949    03  14.0   \n",
       "3  1949-04          129     3      491      132      112  1949    04  -3.0   \n",
       "4  1949-05          121     4      612      132      112  1949    05  -8.0   \n",
       "\n",
       "     pct  \n",
       "0    nan  \n",
       "1   5.36  \n",
       "2  11.86  \n",
       "3  -2.27  \n",
       "4  -6.20  "
      ]
     },
     "execution_count": 99,
     "metadata": {},
     "output_type": "execute_result"
    }
   ],
   "source": [
    "df_time_series.head()"
   ]
  },
  {
   "cell_type": "code",
   "execution_count": 100,
   "id": "616806a7",
   "metadata": {
    "ExecuteTime": {
     "end_time": "2022-01-16T18:04:35.072588Z",
     "start_time": "2022-01-16T18:04:35.062061Z"
    }
   },
   "outputs": [],
   "source": [
    "df_time_series = df_time_series.drop('Month', axis=1)"
   ]
  },
  {
   "cell_type": "code",
   "execution_count": 101,
   "id": "09eca944",
   "metadata": {
    "ExecuteTime": {
     "end_time": "2022-01-16T18:04:42.594170Z",
     "start_time": "2022-01-16T18:04:42.571704Z"
    }
   },
   "outputs": [
    {
     "data": {
      "text/html": [
       "<div>\n",
       "<style scoped>\n",
       "    .dataframe tbody tr th:only-of-type {\n",
       "        vertical-align: middle;\n",
       "    }\n",
       "\n",
       "    .dataframe tbody tr th {\n",
       "        vertical-align: top;\n",
       "    }\n",
       "\n",
       "    .dataframe thead th {\n",
       "        text-align: right;\n",
       "    }\n",
       "</style>\n",
       "<table border=\"1\" class=\"dataframe\">\n",
       "  <thead>\n",
       "    <tr style=\"text-align: right;\">\n",
       "      <th></th>\n",
       "      <th>#Passengers</th>\n",
       "      <th>step</th>\n",
       "      <th>cum_sum</th>\n",
       "      <th>cum_max</th>\n",
       "      <th>cum_min</th>\n",
       "      <th>year</th>\n",
       "      <th>month</th>\n",
       "      <th>diff</th>\n",
       "      <th>pct</th>\n",
       "    </tr>\n",
       "  </thead>\n",
       "  <tbody>\n",
       "    <tr>\n",
       "      <th>0</th>\n",
       "      <td>112</td>\n",
       "      <td>0</td>\n",
       "      <td>112</td>\n",
       "      <td>112</td>\n",
       "      <td>112</td>\n",
       "      <td>1949</td>\n",
       "      <td>01</td>\n",
       "      <td>0.0</td>\n",
       "      <td>nan</td>\n",
       "    </tr>\n",
       "    <tr>\n",
       "      <th>1</th>\n",
       "      <td>118</td>\n",
       "      <td>1</td>\n",
       "      <td>230</td>\n",
       "      <td>118</td>\n",
       "      <td>112</td>\n",
       "      <td>1949</td>\n",
       "      <td>02</td>\n",
       "      <td>6.0</td>\n",
       "      <td>5.36</td>\n",
       "    </tr>\n",
       "    <tr>\n",
       "      <th>2</th>\n",
       "      <td>132</td>\n",
       "      <td>2</td>\n",
       "      <td>362</td>\n",
       "      <td>132</td>\n",
       "      <td>112</td>\n",
       "      <td>1949</td>\n",
       "      <td>03</td>\n",
       "      <td>14.0</td>\n",
       "      <td>11.86</td>\n",
       "    </tr>\n",
       "    <tr>\n",
       "      <th>3</th>\n",
       "      <td>129</td>\n",
       "      <td>3</td>\n",
       "      <td>491</td>\n",
       "      <td>132</td>\n",
       "      <td>112</td>\n",
       "      <td>1949</td>\n",
       "      <td>04</td>\n",
       "      <td>-3.0</td>\n",
       "      <td>-2.27</td>\n",
       "    </tr>\n",
       "    <tr>\n",
       "      <th>4</th>\n",
       "      <td>121</td>\n",
       "      <td>4</td>\n",
       "      <td>612</td>\n",
       "      <td>132</td>\n",
       "      <td>112</td>\n",
       "      <td>1949</td>\n",
       "      <td>05</td>\n",
       "      <td>-8.0</td>\n",
       "      <td>-6.20</td>\n",
       "    </tr>\n",
       "  </tbody>\n",
       "</table>\n",
       "</div>"
      ],
      "text/plain": [
       "   #Passengers  step  cum_sum  cum_max  cum_min  year month  diff    pct\n",
       "0          112     0      112      112      112  1949    01   0.0    nan\n",
       "1          118     1      230      118      112  1949    02   6.0   5.36\n",
       "2          132     2      362      132      112  1949    03  14.0  11.86\n",
       "3          129     3      491      132      112  1949    04  -3.0  -2.27\n",
       "4          121     4      612      132      112  1949    05  -8.0  -6.20"
      ]
     },
     "execution_count": 101,
     "metadata": {},
     "output_type": "execute_result"
    }
   ],
   "source": [
    "df_time_series.head()"
   ]
  },
  {
   "cell_type": "markdown",
   "id": "cbf13808",
   "metadata": {},
   "source": [
    "## 채무불이행률"
   ]
  },
  {
   "cell_type": "code",
   "execution_count": 104,
   "id": "838223ba",
   "metadata": {
    "ExecuteTime": {
     "end_time": "2022-01-16T18:07:46.640345Z",
     "start_time": "2022-01-16T18:07:46.587871Z"
    }
   },
   "outputs": [
    {
     "data": {
      "text/html": [
       "<div>\n",
       "<style scoped>\n",
       "    .dataframe tbody tr th:only-of-type {\n",
       "        vertical-align: middle;\n",
       "    }\n",
       "\n",
       "    .dataframe tbody tr th {\n",
       "        vertical-align: top;\n",
       "    }\n",
       "\n",
       "    .dataframe thead th {\n",
       "        text-align: right;\n",
       "    }\n",
       "</style>\n",
       "<table border=\"1\" class=\"dataframe\">\n",
       "  <thead>\n",
       "    <tr style=\"text-align: right;\">\n",
       "      <th></th>\n",
       "      <th>id</th>\n",
       "      <th>loan_amnt</th>\n",
       "      <th>funded_amnt</th>\n",
       "      <th>funded_amnt_inv</th>\n",
       "      <th>term</th>\n",
       "      <th>int_rate</th>\n",
       "      <th>installment</th>\n",
       "      <th>grade</th>\n",
       "      <th>sub_grade</th>\n",
       "      <th>emp_title</th>\n",
       "      <th>...</th>\n",
       "      <th>revol_util</th>\n",
       "      <th>total_acc</th>\n",
       "      <th>initial_list_status</th>\n",
       "      <th>out_prncp</th>\n",
       "      <th>out_prncp_inv</th>\n",
       "      <th>recoveries</th>\n",
       "      <th>collection_recovery_fee</th>\n",
       "      <th>policy_code</th>\n",
       "      <th>tot_cur_bal</th>\n",
       "      <th>total_rev_hi_lim</th>\n",
       "    </tr>\n",
       "  </thead>\n",
       "  <tbody>\n",
       "    <tr>\n",
       "      <th>0</th>\n",
       "      <td>16001</td>\n",
       "      <td>2400</td>\n",
       "      <td>2400</td>\n",
       "      <td>2400.000000</td>\n",
       "      <td>36 months</td>\n",
       "      <td>13.67</td>\n",
       "      <td>81.65</td>\n",
       "      <td>B</td>\n",
       "      <td>B5</td>\n",
       "      <td>Chase</td>\n",
       "      <td>...</td>\n",
       "      <td>87.9</td>\n",
       "      <td>34</td>\n",
       "      <td>f</td>\n",
       "      <td>0.0</td>\n",
       "      <td>0.0</td>\n",
       "      <td>0.0</td>\n",
       "      <td>0.0</td>\n",
       "      <td>1</td>\n",
       "      <td>NaN</td>\n",
       "      <td>NaN</td>\n",
       "    </tr>\n",
       "    <tr>\n",
       "      <th>1</th>\n",
       "      <td>16002</td>\n",
       "      <td>20000</td>\n",
       "      <td>20000</td>\n",
       "      <td>20000.000000</td>\n",
       "      <td>60 months</td>\n",
       "      <td>19.52</td>\n",
       "      <td>524.56</td>\n",
       "      <td>E</td>\n",
       "      <td>E2</td>\n",
       "      <td>Production manager</td>\n",
       "      <td>...</td>\n",
       "      <td>68.2</td>\n",
       "      <td>43</td>\n",
       "      <td>w</td>\n",
       "      <td>0.0</td>\n",
       "      <td>0.0</td>\n",
       "      <td>0.0</td>\n",
       "      <td>0.0</td>\n",
       "      <td>1</td>\n",
       "      <td>258440.0</td>\n",
       "      <td>53500.0</td>\n",
       "    </tr>\n",
       "    <tr>\n",
       "      <th>2</th>\n",
       "      <td>16003</td>\n",
       "      <td>10625</td>\n",
       "      <td>10625</td>\n",
       "      <td>10625.000000</td>\n",
       "      <td>36 months</td>\n",
       "      <td>15.31</td>\n",
       "      <td>369.94</td>\n",
       "      <td>C</td>\n",
       "      <td>C2</td>\n",
       "      <td>smithfield packing co.</td>\n",
       "      <td>...</td>\n",
       "      <td>82.8</td>\n",
       "      <td>15</td>\n",
       "      <td>f</td>\n",
       "      <td>0.0</td>\n",
       "      <td>0.0</td>\n",
       "      <td>0.0</td>\n",
       "      <td>0.0</td>\n",
       "      <td>1</td>\n",
       "      <td>63443.0</td>\n",
       "      <td>15100.0</td>\n",
       "    </tr>\n",
       "    <tr>\n",
       "      <th>3</th>\n",
       "      <td>16004</td>\n",
       "      <td>16800</td>\n",
       "      <td>16800</td>\n",
       "      <td>16800.000000</td>\n",
       "      <td>36 months</td>\n",
       "      <td>7.90</td>\n",
       "      <td>525.68</td>\n",
       "      <td>A</td>\n",
       "      <td>A4</td>\n",
       "      <td>L.A.co. Sheriff's Dept</td>\n",
       "      <td>...</td>\n",
       "      <td>59.8</td>\n",
       "      <td>17</td>\n",
       "      <td>f</td>\n",
       "      <td>0.0</td>\n",
       "      <td>0.0</td>\n",
       "      <td>0.0</td>\n",
       "      <td>0.0</td>\n",
       "      <td>1</td>\n",
       "      <td>322284.0</td>\n",
       "      <td>20400.0</td>\n",
       "    </tr>\n",
       "    <tr>\n",
       "      <th>4</th>\n",
       "      <td>16005</td>\n",
       "      <td>10000</td>\n",
       "      <td>10000</td>\n",
       "      <td>9831.692001</td>\n",
       "      <td>60 months</td>\n",
       "      <td>13.98</td>\n",
       "      <td>232.58</td>\n",
       "      <td>C</td>\n",
       "      <td>C3</td>\n",
       "      <td>Military</td>\n",
       "      <td>...</td>\n",
       "      <td>29.7</td>\n",
       "      <td>30</td>\n",
       "      <td>f</td>\n",
       "      <td>0.0</td>\n",
       "      <td>0.0</td>\n",
       "      <td>0.0</td>\n",
       "      <td>0.0</td>\n",
       "      <td>1</td>\n",
       "      <td>NaN</td>\n",
       "      <td>NaN</td>\n",
       "    </tr>\n",
       "  </tbody>\n",
       "</table>\n",
       "<p>5 rows × 34 columns</p>\n",
       "</div>"
      ],
      "text/plain": [
       "      id  loan_amnt  funded_amnt  funded_amnt_inv        term  int_rate  \\\n",
       "0  16001       2400         2400      2400.000000   36 months     13.67   \n",
       "1  16002      20000        20000     20000.000000   60 months     19.52   \n",
       "2  16003      10625        10625     10625.000000   36 months     15.31   \n",
       "3  16004      16800        16800     16800.000000   36 months      7.90   \n",
       "4  16005      10000        10000      9831.692001   60 months     13.98   \n",
       "\n",
       "   installment grade sub_grade               emp_title  ... revol_util  \\\n",
       "0        81.65     B        B5                   Chase  ...       87.9   \n",
       "1       524.56     E        E2      Production manager  ...       68.2   \n",
       "2       369.94     C        C2  smithfield packing co.  ...       82.8   \n",
       "3       525.68     A        A4  L.A.co. Sheriff's Dept  ...       59.8   \n",
       "4       232.58     C        C3                Military  ...       29.7   \n",
       "\n",
       "  total_acc  initial_list_status out_prncp out_prncp_inv recoveries  \\\n",
       "0        34                    f       0.0           0.0        0.0   \n",
       "1        43                    w       0.0           0.0        0.0   \n",
       "2        15                    f       0.0           0.0        0.0   \n",
       "3        17                    f       0.0           0.0        0.0   \n",
       "4        30                    f       0.0           0.0        0.0   \n",
       "\n",
       "  collection_recovery_fee  policy_code  tot_cur_bal total_rev_hi_lim  \n",
       "0                     0.0            1          NaN              NaN  \n",
       "1                     0.0            1     258440.0          53500.0  \n",
       "2                     0.0            1      63443.0          15100.0  \n",
       "3                     0.0            1     322284.0          20400.0  \n",
       "4                     0.0            1          NaN              NaN  \n",
       "\n",
       "[5 rows x 34 columns]"
      ]
     },
     "execution_count": 104,
     "metadata": {},
     "output_type": "execute_result"
    }
   ],
   "source": [
    "train_data = pd.read_csv('/Users/geumjong-yeon/Desktop/21-2/투자공학/2차 과제 - 채무불이행 분류 예측 모델/data/test/loan_test.csv')\n",
    "train_data.head()"
   ]
  },
  {
   "cell_type": "code",
   "execution_count": 105,
   "id": "d59a0b53",
   "metadata": {
    "ExecuteTime": {
     "end_time": "2022-01-16T18:09:36.348210Z",
     "start_time": "2022-01-16T18:09:36.314380Z"
    }
   },
   "outputs": [],
   "source": [
    "train_copy = train_data.drop('id', axis = 1)"
   ]
  },
  {
   "cell_type": "code",
   "execution_count": 106,
   "id": "37e5f3dc",
   "metadata": {
    "ExecuteTime": {
     "end_time": "2022-01-16T18:09:50.242847Z",
     "start_time": "2022-01-16T18:09:50.204173Z"
    }
   },
   "outputs": [
    {
     "name": "stdout",
     "output_type": "stream",
     "text": [
      "<class 'pandas.core.frame.DataFrame'>\n",
      "RangeIndex: 4000 entries, 0 to 3999\n",
      "Data columns (total 33 columns):\n",
      " #   Column                   Non-Null Count  Dtype  \n",
      "---  ------                   --------------  -----  \n",
      " 0   loan_amnt                4000 non-null   int64  \n",
      " 1   funded_amnt              4000 non-null   int64  \n",
      " 2   funded_amnt_inv          4000 non-null   float64\n",
      " 3   term                     4000 non-null   object \n",
      " 4   int_rate                 4000 non-null   float64\n",
      " 5   installment              4000 non-null   float64\n",
      " 6   grade                    4000 non-null   object \n",
      " 7   sub_grade                4000 non-null   object \n",
      " 8   emp_title                3734 non-null   object \n",
      " 9   emp_length               3779 non-null   object \n",
      " 10  home_ownership           4000 non-null   object \n",
      " 11  annual_inc               4000 non-null   float64\n",
      " 12  pymnt_plan               4000 non-null   object \n",
      " 13  purpose                  4000 non-null   object \n",
      " 14  title                    4000 non-null   object \n",
      " 15  addr_state               4000 non-null   object \n",
      " 16  dti                      4000 non-null   float64\n",
      " 17  delinq_2yrs              4000 non-null   int64  \n",
      " 18  earliest_cr_line         4000 non-null   object \n",
      " 19  inq_last_6mths           4000 non-null   int64  \n",
      " 20  open_acc                 4000 non-null   int64  \n",
      " 21  pub_rec                  4000 non-null   int64  \n",
      " 22  revol_bal                4000 non-null   int64  \n",
      " 23  revol_util               3993 non-null   float64\n",
      " 24  total_acc                4000 non-null   int64  \n",
      " 25  initial_list_status      4000 non-null   object \n",
      " 26  out_prncp                4000 non-null   float64\n",
      " 27  out_prncp_inv            4000 non-null   float64\n",
      " 28  recoveries               4000 non-null   float64\n",
      " 29  collection_recovery_fee  4000 non-null   float64\n",
      " 30  policy_code              4000 non-null   int64  \n",
      " 31  tot_cur_bal              3518 non-null   float64\n",
      " 32  total_rev_hi_lim         3518 non-null   float64\n",
      "dtypes: float64(12), int64(9), object(12)\n",
      "memory usage: 1.0+ MB\n"
     ]
    }
   ],
   "source": [
    "train_copy.info()"
   ]
  },
  {
   "cell_type": "code",
   "execution_count": 107,
   "id": "42223360",
   "metadata": {
    "ExecuteTime": {
     "end_time": "2022-01-16T18:10:20.235716Z",
     "start_time": "2022-01-16T18:10:20.172861Z"
    }
   },
   "outputs": [
    {
     "data": {
      "text/html": [
       "<div>\n",
       "<style scoped>\n",
       "    .dataframe tbody tr th:only-of-type {\n",
       "        vertical-align: middle;\n",
       "    }\n",
       "\n",
       "    .dataframe tbody tr th {\n",
       "        vertical-align: top;\n",
       "    }\n",
       "\n",
       "    .dataframe thead th {\n",
       "        text-align: right;\n",
       "    }\n",
       "</style>\n",
       "<table border=\"1\" class=\"dataframe\">\n",
       "  <thead>\n",
       "    <tr style=\"text-align: right;\">\n",
       "      <th></th>\n",
       "      <th>loan_amnt</th>\n",
       "      <th>funded_amnt</th>\n",
       "      <th>funded_amnt_inv</th>\n",
       "      <th>int_rate</th>\n",
       "      <th>installment</th>\n",
       "      <th>annual_inc</th>\n",
       "      <th>dti</th>\n",
       "      <th>delinq_2yrs</th>\n",
       "      <th>inq_last_6mths</th>\n",
       "      <th>open_acc</th>\n",
       "      <th>...</th>\n",
       "      <th>revol_bal</th>\n",
       "      <th>revol_util</th>\n",
       "      <th>total_acc</th>\n",
       "      <th>out_prncp</th>\n",
       "      <th>out_prncp_inv</th>\n",
       "      <th>recoveries</th>\n",
       "      <th>collection_recovery_fee</th>\n",
       "      <th>policy_code</th>\n",
       "      <th>tot_cur_bal</th>\n",
       "      <th>total_rev_hi_lim</th>\n",
       "    </tr>\n",
       "  </thead>\n",
       "  <tbody>\n",
       "    <tr>\n",
       "      <th>count</th>\n",
       "      <td>4000.000000</td>\n",
       "      <td>4000.000000</td>\n",
       "      <td>4000.000000</td>\n",
       "      <td>4000.000000</td>\n",
       "      <td>4000.000000</td>\n",
       "      <td>4000.000000</td>\n",
       "      <td>4000.000000</td>\n",
       "      <td>4000.000000</td>\n",
       "      <td>4000.000000</td>\n",
       "      <td>4000.000000</td>\n",
       "      <td>...</td>\n",
       "      <td>4000.000000</td>\n",
       "      <td>3993.000000</td>\n",
       "      <td>4000.000000</td>\n",
       "      <td>4000.000000</td>\n",
       "      <td>4000.000000</td>\n",
       "      <td>4000.000000</td>\n",
       "      <td>4000.000000</td>\n",
       "      <td>4000.0</td>\n",
       "      <td>3.518000e+03</td>\n",
       "      <td>3518.000000</td>\n",
       "    </tr>\n",
       "    <tr>\n",
       "      <th>mean</th>\n",
       "      <td>14542.250000</td>\n",
       "      <td>14524.925000</td>\n",
       "      <td>14468.082643</td>\n",
       "      <td>14.635832</td>\n",
       "      <td>436.286335</td>\n",
       "      <td>70040.830420</td>\n",
       "      <td>18.308027</td>\n",
       "      <td>0.309750</td>\n",
       "      <td>0.812750</td>\n",
       "      <td>11.330750</td>\n",
       "      <td>...</td>\n",
       "      <td>15237.971000</td>\n",
       "      <td>56.637941</td>\n",
       "      <td>25.059250</td>\n",
       "      <td>5916.976748</td>\n",
       "      <td>5914.482365</td>\n",
       "      <td>211.828421</td>\n",
       "      <td>22.993468</td>\n",
       "      <td>1.0</td>\n",
       "      <td>1.243636e+05</td>\n",
       "      <td>28575.843093</td>\n",
       "    </tr>\n",
       "    <tr>\n",
       "      <th>std</th>\n",
       "      <td>8315.447318</td>\n",
       "      <td>8301.721807</td>\n",
       "      <td>8313.120679</td>\n",
       "      <td>4.499255</td>\n",
       "      <td>243.450638</td>\n",
       "      <td>46154.988393</td>\n",
       "      <td>8.286838</td>\n",
       "      <td>0.855563</td>\n",
       "      <td>1.029783</td>\n",
       "      <td>5.331975</td>\n",
       "      <td>...</td>\n",
       "      <td>15826.202291</td>\n",
       "      <td>24.380489</td>\n",
       "      <td>12.020144</td>\n",
       "      <td>8109.587647</td>\n",
       "      <td>8106.108980</td>\n",
       "      <td>932.979801</td>\n",
       "      <td>168.642119</td>\n",
       "      <td>0.0</td>\n",
       "      <td>1.372976e+05</td>\n",
       "      <td>28970.110097</td>\n",
       "    </tr>\n",
       "    <tr>\n",
       "      <th>min</th>\n",
       "      <td>1000.000000</td>\n",
       "      <td>1000.000000</td>\n",
       "      <td>0.000000</td>\n",
       "      <td>5.320000</td>\n",
       "      <td>28.820000</td>\n",
       "      <td>8000.000000</td>\n",
       "      <td>0.000000</td>\n",
       "      <td>0.000000</td>\n",
       "      <td>0.000000</td>\n",
       "      <td>0.000000</td>\n",
       "      <td>...</td>\n",
       "      <td>0.000000</td>\n",
       "      <td>0.000000</td>\n",
       "      <td>3.000000</td>\n",
       "      <td>0.000000</td>\n",
       "      <td>0.000000</td>\n",
       "      <td>0.000000</td>\n",
       "      <td>0.000000</td>\n",
       "      <td>1.0</td>\n",
       "      <td>0.000000e+00</td>\n",
       "      <td>0.000000</td>\n",
       "    </tr>\n",
       "    <tr>\n",
       "      <th>25%</th>\n",
       "      <td>8000.000000</td>\n",
       "      <td>8000.000000</td>\n",
       "      <td>8000.000000</td>\n",
       "      <td>11.530000</td>\n",
       "      <td>266.180000</td>\n",
       "      <td>43114.750000</td>\n",
       "      <td>12.157500</td>\n",
       "      <td>0.000000</td>\n",
       "      <td>0.000000</td>\n",
       "      <td>8.000000</td>\n",
       "      <td>...</td>\n",
       "      <td>6109.250000</td>\n",
       "      <td>39.400000</td>\n",
       "      <td>16.000000</td>\n",
       "      <td>0.000000</td>\n",
       "      <td>0.000000</td>\n",
       "      <td>0.000000</td>\n",
       "      <td>0.000000</td>\n",
       "      <td>1.0</td>\n",
       "      <td>2.731225e+04</td>\n",
       "      <td>12970.750000</td>\n",
       "    </tr>\n",
       "    <tr>\n",
       "      <th>50%</th>\n",
       "      <td>12500.000000</td>\n",
       "      <td>12500.000000</td>\n",
       "      <td>12400.000000</td>\n",
       "      <td>14.310000</td>\n",
       "      <td>381.375000</td>\n",
       "      <td>60000.000000</td>\n",
       "      <td>18.050000</td>\n",
       "      <td>0.000000</td>\n",
       "      <td>0.000000</td>\n",
       "      <td>10.000000</td>\n",
       "      <td>...</td>\n",
       "      <td>11417.500000</td>\n",
       "      <td>58.200000</td>\n",
       "      <td>23.000000</td>\n",
       "      <td>0.000000</td>\n",
       "      <td>0.000000</td>\n",
       "      <td>0.000000</td>\n",
       "      <td>0.000000</td>\n",
       "      <td>1.0</td>\n",
       "      <td>6.636550e+04</td>\n",
       "      <td>21600.000000</td>\n",
       "    </tr>\n",
       "    <tr>\n",
       "      <th>75%</th>\n",
       "      <td>20000.000000</td>\n",
       "      <td>20000.000000</td>\n",
       "      <td>20000.000000</td>\n",
       "      <td>17.570000</td>\n",
       "      <td>562.130000</td>\n",
       "      <td>83850.000000</td>\n",
       "      <td>24.082500</td>\n",
       "      <td>0.000000</td>\n",
       "      <td>1.000000</td>\n",
       "      <td>14.000000</td>\n",
       "      <td>...</td>\n",
       "      <td>19147.000000</td>\n",
       "      <td>75.700000</td>\n",
       "      <td>32.000000</td>\n",
       "      <td>10470.562500</td>\n",
       "      <td>10470.562500</td>\n",
       "      <td>0.000000</td>\n",
       "      <td>0.000000</td>\n",
       "      <td>1.0</td>\n",
       "      <td>1.876768e+05</td>\n",
       "      <td>35300.000000</td>\n",
       "    </tr>\n",
       "    <tr>\n",
       "      <th>max</th>\n",
       "      <td>35000.000000</td>\n",
       "      <td>35000.000000</td>\n",
       "      <td>35000.000000</td>\n",
       "      <td>28.990000</td>\n",
       "      <td>1374.630000</td>\n",
       "      <td>800000.000000</td>\n",
       "      <td>39.830000</td>\n",
       "      <td>10.000000</td>\n",
       "      <td>6.000000</td>\n",
       "      <td>90.000000</td>\n",
       "      <td>...</td>\n",
       "      <td>266850.000000</td>\n",
       "      <td>111.000000</td>\n",
       "      <td>107.000000</td>\n",
       "      <td>35000.000000</td>\n",
       "      <td>34925.000000</td>\n",
       "      <td>31900.520000</td>\n",
       "      <td>5694.093600</td>\n",
       "      <td>1.0</td>\n",
       "      <td>1.647506e+06</td>\n",
       "      <td>861100.000000</td>\n",
       "    </tr>\n",
       "  </tbody>\n",
       "</table>\n",
       "<p>8 rows × 21 columns</p>\n",
       "</div>"
      ],
      "text/plain": [
       "          loan_amnt   funded_amnt  funded_amnt_inv     int_rate  installment  \\\n",
       "count   4000.000000   4000.000000      4000.000000  4000.000000  4000.000000   \n",
       "mean   14542.250000  14524.925000     14468.082643    14.635832   436.286335   \n",
       "std     8315.447318   8301.721807      8313.120679     4.499255   243.450638   \n",
       "min     1000.000000   1000.000000         0.000000     5.320000    28.820000   \n",
       "25%     8000.000000   8000.000000      8000.000000    11.530000   266.180000   \n",
       "50%    12500.000000  12500.000000     12400.000000    14.310000   381.375000   \n",
       "75%    20000.000000  20000.000000     20000.000000    17.570000   562.130000   \n",
       "max    35000.000000  35000.000000     35000.000000    28.990000  1374.630000   \n",
       "\n",
       "          annual_inc          dti  delinq_2yrs  inq_last_6mths     open_acc  \\\n",
       "count    4000.000000  4000.000000  4000.000000     4000.000000  4000.000000   \n",
       "mean    70040.830420    18.308027     0.309750        0.812750    11.330750   \n",
       "std     46154.988393     8.286838     0.855563        1.029783     5.331975   \n",
       "min      8000.000000     0.000000     0.000000        0.000000     0.000000   \n",
       "25%     43114.750000    12.157500     0.000000        0.000000     8.000000   \n",
       "50%     60000.000000    18.050000     0.000000        0.000000    10.000000   \n",
       "75%     83850.000000    24.082500     0.000000        1.000000    14.000000   \n",
       "max    800000.000000    39.830000    10.000000        6.000000    90.000000   \n",
       "\n",
       "       ...      revol_bal   revol_util    total_acc     out_prncp  \\\n",
       "count  ...    4000.000000  3993.000000  4000.000000   4000.000000   \n",
       "mean   ...   15237.971000    56.637941    25.059250   5916.976748   \n",
       "std    ...   15826.202291    24.380489    12.020144   8109.587647   \n",
       "min    ...       0.000000     0.000000     3.000000      0.000000   \n",
       "25%    ...    6109.250000    39.400000    16.000000      0.000000   \n",
       "50%    ...   11417.500000    58.200000    23.000000      0.000000   \n",
       "75%    ...   19147.000000    75.700000    32.000000  10470.562500   \n",
       "max    ...  266850.000000   111.000000   107.000000  35000.000000   \n",
       "\n",
       "       out_prncp_inv    recoveries  collection_recovery_fee  policy_code  \\\n",
       "count    4000.000000   4000.000000              4000.000000       4000.0   \n",
       "mean     5914.482365    211.828421                22.993468          1.0   \n",
       "std      8106.108980    932.979801               168.642119          0.0   \n",
       "min         0.000000      0.000000                 0.000000          1.0   \n",
       "25%         0.000000      0.000000                 0.000000          1.0   \n",
       "50%         0.000000      0.000000                 0.000000          1.0   \n",
       "75%     10470.562500      0.000000                 0.000000          1.0   \n",
       "max     34925.000000  31900.520000              5694.093600          1.0   \n",
       "\n",
       "        tot_cur_bal  total_rev_hi_lim  \n",
       "count  3.518000e+03       3518.000000  \n",
       "mean   1.243636e+05      28575.843093  \n",
       "std    1.372976e+05      28970.110097  \n",
       "min    0.000000e+00          0.000000  \n",
       "25%    2.731225e+04      12970.750000  \n",
       "50%    6.636550e+04      21600.000000  \n",
       "75%    1.876768e+05      35300.000000  \n",
       "max    1.647506e+06     861100.000000  \n",
       "\n",
       "[8 rows x 21 columns]"
      ]
     },
     "execution_count": 107,
     "metadata": {},
     "output_type": "execute_result"
    }
   ],
   "source": [
    "train_copy.describe()"
   ]
  },
  {
   "cell_type": "code",
   "execution_count": 109,
   "id": "ea5e65c4",
   "metadata": {
    "ExecuteTime": {
     "end_time": "2022-01-16T18:12:19.499992Z",
     "start_time": "2022-01-16T18:12:19.482669Z"
    }
   },
   "outputs": [],
   "source": [
    "train_copy['mean_amnt'] = train_copy[['loan_amnt','funded_amnt','funded_amnt_inv']].mean(axis = 1)\n",
    "train_copy = train_copy.drop(['loan_amnt','funded_amnt','funded_amnt_inv'], axis = 1 )"
   ]
  },
  {
   "cell_type": "code",
   "execution_count": 110,
   "id": "c1acc09d",
   "metadata": {
    "ExecuteTime": {
     "end_time": "2022-01-16T18:12:23.171164Z",
     "start_time": "2022-01-16T18:12:23.120867Z"
    }
   },
   "outputs": [
    {
     "data": {
      "text/html": [
       "<div>\n",
       "<style scoped>\n",
       "    .dataframe tbody tr th:only-of-type {\n",
       "        vertical-align: middle;\n",
       "    }\n",
       "\n",
       "    .dataframe tbody tr th {\n",
       "        vertical-align: top;\n",
       "    }\n",
       "\n",
       "    .dataframe thead th {\n",
       "        text-align: right;\n",
       "    }\n",
       "</style>\n",
       "<table border=\"1\" class=\"dataframe\">\n",
       "  <thead>\n",
       "    <tr style=\"text-align: right;\">\n",
       "      <th></th>\n",
       "      <th>term</th>\n",
       "      <th>int_rate</th>\n",
       "      <th>installment</th>\n",
       "      <th>grade</th>\n",
       "      <th>sub_grade</th>\n",
       "      <th>emp_title</th>\n",
       "      <th>emp_length</th>\n",
       "      <th>home_ownership</th>\n",
       "      <th>annual_inc</th>\n",
       "      <th>pymnt_plan</th>\n",
       "      <th>...</th>\n",
       "      <th>total_acc</th>\n",
       "      <th>initial_list_status</th>\n",
       "      <th>out_prncp</th>\n",
       "      <th>out_prncp_inv</th>\n",
       "      <th>recoveries</th>\n",
       "      <th>collection_recovery_fee</th>\n",
       "      <th>policy_code</th>\n",
       "      <th>tot_cur_bal</th>\n",
       "      <th>total_rev_hi_lim</th>\n",
       "      <th>mean_amnt</th>\n",
       "    </tr>\n",
       "  </thead>\n",
       "  <tbody>\n",
       "    <tr>\n",
       "      <th>0</th>\n",
       "      <td>36 months</td>\n",
       "      <td>13.67</td>\n",
       "      <td>81.65</td>\n",
       "      <td>B</td>\n",
       "      <td>B5</td>\n",
       "      <td>Chase</td>\n",
       "      <td>6 years</td>\n",
       "      <td>MORTGAGE</td>\n",
       "      <td>85000.0</td>\n",
       "      <td>n</td>\n",
       "      <td>...</td>\n",
       "      <td>34</td>\n",
       "      <td>f</td>\n",
       "      <td>0.00</td>\n",
       "      <td>0.00</td>\n",
       "      <td>0.0</td>\n",
       "      <td>0.0</td>\n",
       "      <td>1</td>\n",
       "      <td>NaN</td>\n",
       "      <td>NaN</td>\n",
       "      <td>2400.000000</td>\n",
       "    </tr>\n",
       "    <tr>\n",
       "      <th>1</th>\n",
       "      <td>60 months</td>\n",
       "      <td>19.52</td>\n",
       "      <td>524.56</td>\n",
       "      <td>E</td>\n",
       "      <td>E2</td>\n",
       "      <td>Production manager</td>\n",
       "      <td>10+ years</td>\n",
       "      <td>MORTGAGE</td>\n",
       "      <td>74000.0</td>\n",
       "      <td>n</td>\n",
       "      <td>...</td>\n",
       "      <td>43</td>\n",
       "      <td>w</td>\n",
       "      <td>0.00</td>\n",
       "      <td>0.00</td>\n",
       "      <td>0.0</td>\n",
       "      <td>0.0</td>\n",
       "      <td>1</td>\n",
       "      <td>258440.0</td>\n",
       "      <td>53500.0</td>\n",
       "      <td>20000.000000</td>\n",
       "    </tr>\n",
       "    <tr>\n",
       "      <th>2</th>\n",
       "      <td>36 months</td>\n",
       "      <td>15.31</td>\n",
       "      <td>369.94</td>\n",
       "      <td>C</td>\n",
       "      <td>C2</td>\n",
       "      <td>smithfield packing co.</td>\n",
       "      <td>10+ years</td>\n",
       "      <td>MORTGAGE</td>\n",
       "      <td>30404.0</td>\n",
       "      <td>n</td>\n",
       "      <td>...</td>\n",
       "      <td>15</td>\n",
       "      <td>f</td>\n",
       "      <td>0.00</td>\n",
       "      <td>0.00</td>\n",
       "      <td>0.0</td>\n",
       "      <td>0.0</td>\n",
       "      <td>1</td>\n",
       "      <td>63443.0</td>\n",
       "      <td>15100.0</td>\n",
       "      <td>10625.000000</td>\n",
       "    </tr>\n",
       "    <tr>\n",
       "      <th>3</th>\n",
       "      <td>36 months</td>\n",
       "      <td>7.90</td>\n",
       "      <td>525.68</td>\n",
       "      <td>A</td>\n",
       "      <td>A4</td>\n",
       "      <td>L.A.co. Sheriff's Dept</td>\n",
       "      <td>5 years</td>\n",
       "      <td>MORTGAGE</td>\n",
       "      <td>80000.0</td>\n",
       "      <td>n</td>\n",
       "      <td>...</td>\n",
       "      <td>17</td>\n",
       "      <td>f</td>\n",
       "      <td>0.00</td>\n",
       "      <td>0.00</td>\n",
       "      <td>0.0</td>\n",
       "      <td>0.0</td>\n",
       "      <td>1</td>\n",
       "      <td>322284.0</td>\n",
       "      <td>20400.0</td>\n",
       "      <td>16800.000000</td>\n",
       "    </tr>\n",
       "    <tr>\n",
       "      <th>4</th>\n",
       "      <td>60 months</td>\n",
       "      <td>13.98</td>\n",
       "      <td>232.58</td>\n",
       "      <td>C</td>\n",
       "      <td>C3</td>\n",
       "      <td>Military</td>\n",
       "      <td>8 years</td>\n",
       "      <td>MORTGAGE</td>\n",
       "      <td>60000.0</td>\n",
       "      <td>n</td>\n",
       "      <td>...</td>\n",
       "      <td>30</td>\n",
       "      <td>f</td>\n",
       "      <td>0.00</td>\n",
       "      <td>0.00</td>\n",
       "      <td>0.0</td>\n",
       "      <td>0.0</td>\n",
       "      <td>1</td>\n",
       "      <td>NaN</td>\n",
       "      <td>NaN</td>\n",
       "      <td>9943.897334</td>\n",
       "    </tr>\n",
       "    <tr>\n",
       "      <th>...</th>\n",
       "      <td>...</td>\n",
       "      <td>...</td>\n",
       "      <td>...</td>\n",
       "      <td>...</td>\n",
       "      <td>...</td>\n",
       "      <td>...</td>\n",
       "      <td>...</td>\n",
       "      <td>...</td>\n",
       "      <td>...</td>\n",
       "      <td>...</td>\n",
       "      <td>...</td>\n",
       "      <td>...</td>\n",
       "      <td>...</td>\n",
       "      <td>...</td>\n",
       "      <td>...</td>\n",
       "      <td>...</td>\n",
       "      <td>...</td>\n",
       "      <td>...</td>\n",
       "      <td>...</td>\n",
       "      <td>...</td>\n",
       "      <td>...</td>\n",
       "    </tr>\n",
       "    <tr>\n",
       "      <th>3995</th>\n",
       "      <td>60 months</td>\n",
       "      <td>18.54</td>\n",
       "      <td>269.73</td>\n",
       "      <td>E</td>\n",
       "      <td>E1</td>\n",
       "      <td>material handler</td>\n",
       "      <td>7 years</td>\n",
       "      <td>RENT</td>\n",
       "      <td>33000.0</td>\n",
       "      <td>n</td>\n",
       "      <td>...</td>\n",
       "      <td>16</td>\n",
       "      <td>w</td>\n",
       "      <td>9094.47</td>\n",
       "      <td>9094.47</td>\n",
       "      <td>0.0</td>\n",
       "      <td>0.0</td>\n",
       "      <td>1</td>\n",
       "      <td>38056.0</td>\n",
       "      <td>23600.0</td>\n",
       "      <td>10500.000000</td>\n",
       "    </tr>\n",
       "    <tr>\n",
       "      <th>3996</th>\n",
       "      <td>60 months</td>\n",
       "      <td>16.29</td>\n",
       "      <td>489.45</td>\n",
       "      <td>D</td>\n",
       "      <td>D2</td>\n",
       "      <td>Nurse practitioner</td>\n",
       "      <td>1 year</td>\n",
       "      <td>RENT</td>\n",
       "      <td>100000.0</td>\n",
       "      <td>n</td>\n",
       "      <td>...</td>\n",
       "      <td>45</td>\n",
       "      <td>f</td>\n",
       "      <td>15863.81</td>\n",
       "      <td>15863.81</td>\n",
       "      <td>0.0</td>\n",
       "      <td>0.0</td>\n",
       "      <td>1</td>\n",
       "      <td>328997.0</td>\n",
       "      <td>6200.0</td>\n",
       "      <td>20000.000000</td>\n",
       "    </tr>\n",
       "    <tr>\n",
       "      <th>3997</th>\n",
       "      <td>36 months</td>\n",
       "      <td>7.89</td>\n",
       "      <td>312.86</td>\n",
       "      <td>A</td>\n",
       "      <td>A5</td>\n",
       "      <td>City driver</td>\n",
       "      <td>5 years</td>\n",
       "      <td>RENT</td>\n",
       "      <td>70000.0</td>\n",
       "      <td>n</td>\n",
       "      <td>...</td>\n",
       "      <td>17</td>\n",
       "      <td>w</td>\n",
       "      <td>7716.61</td>\n",
       "      <td>7716.61</td>\n",
       "      <td>0.0</td>\n",
       "      <td>0.0</td>\n",
       "      <td>1</td>\n",
       "      <td>31920.0</td>\n",
       "      <td>13500.0</td>\n",
       "      <td>10000.000000</td>\n",
       "    </tr>\n",
       "    <tr>\n",
       "      <th>3998</th>\n",
       "      <td>36 months</td>\n",
       "      <td>8.39</td>\n",
       "      <td>1103.09</td>\n",
       "      <td>A</td>\n",
       "      <td>A5</td>\n",
       "      <td>Director of Operations</td>\n",
       "      <td>2 years</td>\n",
       "      <td>MORTGAGE</td>\n",
       "      <td>85000.0</td>\n",
       "      <td>n</td>\n",
       "      <td>...</td>\n",
       "      <td>26</td>\n",
       "      <td>f</td>\n",
       "      <td>0.00</td>\n",
       "      <td>0.00</td>\n",
       "      <td>0.0</td>\n",
       "      <td>0.0</td>\n",
       "      <td>1</td>\n",
       "      <td>16476.0</td>\n",
       "      <td>47100.0</td>\n",
       "      <td>35000.000000</td>\n",
       "    </tr>\n",
       "    <tr>\n",
       "      <th>3999</th>\n",
       "      <td>36 months</td>\n",
       "      <td>7.90</td>\n",
       "      <td>563.23</td>\n",
       "      <td>A</td>\n",
       "      <td>A4</td>\n",
       "      <td>Express Technology Inc.</td>\n",
       "      <td>10+ years</td>\n",
       "      <td>MORTGAGE</td>\n",
       "      <td>68000.0</td>\n",
       "      <td>n</td>\n",
       "      <td>...</td>\n",
       "      <td>24</td>\n",
       "      <td>f</td>\n",
       "      <td>0.00</td>\n",
       "      <td>0.00</td>\n",
       "      <td>0.0</td>\n",
       "      <td>0.0</td>\n",
       "      <td>1</td>\n",
       "      <td>NaN</td>\n",
       "      <td>NaN</td>\n",
       "      <td>18000.000000</td>\n",
       "    </tr>\n",
       "  </tbody>\n",
       "</table>\n",
       "<p>4000 rows × 31 columns</p>\n",
       "</div>"
      ],
      "text/plain": [
       "            term  int_rate  installment grade sub_grade  \\\n",
       "0      36 months     13.67        81.65     B        B5   \n",
       "1      60 months     19.52       524.56     E        E2   \n",
       "2      36 months     15.31       369.94     C        C2   \n",
       "3      36 months      7.90       525.68     A        A4   \n",
       "4      60 months     13.98       232.58     C        C3   \n",
       "...          ...       ...          ...   ...       ...   \n",
       "3995   60 months     18.54       269.73     E        E1   \n",
       "3996   60 months     16.29       489.45     D        D2   \n",
       "3997   36 months      7.89       312.86     A        A5   \n",
       "3998   36 months      8.39      1103.09     A        A5   \n",
       "3999   36 months      7.90       563.23     A        A4   \n",
       "\n",
       "                    emp_title emp_length home_ownership  annual_inc  \\\n",
       "0                       Chase    6 years       MORTGAGE     85000.0   \n",
       "1          Production manager  10+ years       MORTGAGE     74000.0   \n",
       "2      smithfield packing co.  10+ years       MORTGAGE     30404.0   \n",
       "3      L.A.co. Sheriff's Dept    5 years       MORTGAGE     80000.0   \n",
       "4                    Military    8 years       MORTGAGE     60000.0   \n",
       "...                       ...        ...            ...         ...   \n",
       "3995         material handler    7 years           RENT     33000.0   \n",
       "3996      Nurse practitioner      1 year           RENT    100000.0   \n",
       "3997              City driver    5 years           RENT     70000.0   \n",
       "3998   Director of Operations    2 years       MORTGAGE     85000.0   \n",
       "3999  Express Technology Inc.  10+ years       MORTGAGE     68000.0   \n",
       "\n",
       "     pymnt_plan  ... total_acc initial_list_status out_prncp  out_prncp_inv  \\\n",
       "0             n  ...        34                   f      0.00           0.00   \n",
       "1             n  ...        43                   w      0.00           0.00   \n",
       "2             n  ...        15                   f      0.00           0.00   \n",
       "3             n  ...        17                   f      0.00           0.00   \n",
       "4             n  ...        30                   f      0.00           0.00   \n",
       "...         ...  ...       ...                 ...       ...            ...   \n",
       "3995          n  ...        16                   w   9094.47        9094.47   \n",
       "3996          n  ...        45                   f  15863.81       15863.81   \n",
       "3997          n  ...        17                   w   7716.61        7716.61   \n",
       "3998          n  ...        26                   f      0.00           0.00   \n",
       "3999          n  ...        24                   f      0.00           0.00   \n",
       "\n",
       "      recoveries collection_recovery_fee  policy_code  tot_cur_bal  \\\n",
       "0            0.0                     0.0            1          NaN   \n",
       "1            0.0                     0.0            1     258440.0   \n",
       "2            0.0                     0.0            1      63443.0   \n",
       "3            0.0                     0.0            1     322284.0   \n",
       "4            0.0                     0.0            1          NaN   \n",
       "...          ...                     ...          ...          ...   \n",
       "3995         0.0                     0.0            1      38056.0   \n",
       "3996         0.0                     0.0            1     328997.0   \n",
       "3997         0.0                     0.0            1      31920.0   \n",
       "3998         0.0                     0.0            1      16476.0   \n",
       "3999         0.0                     0.0            1          NaN   \n",
       "\n",
       "      total_rev_hi_lim     mean_amnt  \n",
       "0                  NaN   2400.000000  \n",
       "1              53500.0  20000.000000  \n",
       "2              15100.0  10625.000000  \n",
       "3              20400.0  16800.000000  \n",
       "4                  NaN   9943.897334  \n",
       "...                ...           ...  \n",
       "3995           23600.0  10500.000000  \n",
       "3996            6200.0  20000.000000  \n",
       "3997           13500.0  10000.000000  \n",
       "3998           47100.0  35000.000000  \n",
       "3999               NaN  18000.000000  \n",
       "\n",
       "[4000 rows x 31 columns]"
      ]
     },
     "execution_count": 110,
     "metadata": {},
     "output_type": "execute_result"
    }
   ],
   "source": [
    "train_copy"
   ]
  },
  {
   "cell_type": "code",
   "execution_count": 112,
   "id": "46da31f1",
   "metadata": {
    "ExecuteTime": {
     "end_time": "2022-01-16T18:14:04.837526Z",
     "start_time": "2022-01-16T18:14:04.817473Z"
    }
   },
   "outputs": [
    {
     "name": "stdout",
     "output_type": "stream",
     "text": [
      "<class 'pandas.core.frame.DataFrame'>\n",
      "RangeIndex: 4000 entries, 0 to 3999\n",
      "Data columns (total 2 columns):\n",
      " #   Column       Non-Null Count  Dtype  \n",
      "---  ------       --------------  -----  \n",
      " 0   tot_cur_bal  3518 non-null   float64\n",
      " 1   revol_util   3993 non-null   float64\n",
      "dtypes: float64(2)\n",
      "memory usage: 62.6 KB\n"
     ]
    }
   ],
   "source": [
    "train_copy[['tot_cur_bal', 'revol_util']].info()"
   ]
  },
  {
   "cell_type": "code",
   "execution_count": 114,
   "id": "3d62b2f5",
   "metadata": {
    "ExecuteTime": {
     "end_time": "2022-01-16T18:15:00.630434Z",
     "start_time": "2022-01-16T18:15:00.621889Z"
    }
   },
   "outputs": [],
   "source": [
    "train_copy['tot_cur_bal'].fillna(train_copy['tot_cur_bal'].mean(), inplace = True)\n",
    "train_copy['revol_util'].fillna(train_copy['revol_util'].mean(), inplace = True)"
   ]
  },
  {
   "cell_type": "markdown",
   "id": "80c637de",
   "metadata": {},
   "source": [
    "## 번외"
   ]
  },
  {
   "cell_type": "code",
   "execution_count": 19,
   "id": "d40c3f72",
   "metadata": {
    "ExecuteTime": {
     "end_time": "2022-01-16T20:01:52.813078Z",
     "start_time": "2022-01-16T20:01:52.791143Z"
    }
   },
   "outputs": [
    {
     "data": {
      "text/html": [
       "<div>\n",
       "<style scoped>\n",
       "    .dataframe tbody tr th:only-of-type {\n",
       "        vertical-align: middle;\n",
       "    }\n",
       "\n",
       "    .dataframe tbody tr th {\n",
       "        vertical-align: top;\n",
       "    }\n",
       "\n",
       "    .dataframe thead th {\n",
       "        text-align: right;\n",
       "    }\n",
       "</style>\n",
       "<table border=\"1\" class=\"dataframe\">\n",
       "  <thead>\n",
       "    <tr style=\"text-align: right;\">\n",
       "      <th></th>\n",
       "      <th>MV1</th>\n",
       "      <th>MV2</th>\n",
       "      <th>MV3</th>\n",
       "    </tr>\n",
       "    <tr>\n",
       "      <th>name</th>\n",
       "      <th></th>\n",
       "      <th></th>\n",
       "      <th></th>\n",
       "    </tr>\n",
       "  </thead>\n",
       "  <tbody>\n",
       "    <tr>\n",
       "      <th>종연</th>\n",
       "      <td>5.0</td>\n",
       "      <td>6.0</td>\n",
       "      <td>NaN</td>\n",
       "    </tr>\n",
       "    <tr>\n",
       "      <th>유찬</th>\n",
       "      <td>6.0</td>\n",
       "      <td>NaN</td>\n",
       "      <td>6.0</td>\n",
       "    </tr>\n",
       "    <tr>\n",
       "      <th>은학</th>\n",
       "      <td>7.0</td>\n",
       "      <td>8.0</td>\n",
       "      <td>7.0</td>\n",
       "    </tr>\n",
       "    <tr>\n",
       "      <th>성수</th>\n",
       "      <td>NaN</td>\n",
       "      <td>9.0</td>\n",
       "      <td>8.0</td>\n",
       "    </tr>\n",
       "  </tbody>\n",
       "</table>\n",
       "</div>"
      ],
      "text/plain": [
       "      MV1  MV2  MV3\n",
       "name               \n",
       "종연    5.0  6.0  NaN\n",
       "유찬    6.0  NaN  6.0\n",
       "은학    7.0  8.0  7.0\n",
       "성수    NaN  9.0  8.0"
      ]
     },
     "execution_count": 19,
     "metadata": {},
     "output_type": "execute_result"
    }
   ],
   "source": [
    "# 문제 이해\n",
    "# 왓차 추천 문제\n",
    "df = pd.DataFrame({'name' : ['종연', '유찬', '은학', '성수'],\n",
    "                   'MV1'  : [5, 6, 7, np.nan],\n",
    "                   'MV2'  : [6, np.nan, 8, 9],\n",
    "                   'MV3'  : [np.nan, 6, 7, 8]})\n",
    "df.set_index('name', inplace = True)\n",
    "df"
   ]
  },
  {
   "cell_type": "code",
   "execution_count": 20,
   "id": "8e3c7f3f",
   "metadata": {
    "ExecuteTime": {
     "end_time": "2022-01-16T20:01:53.312393Z",
     "start_time": "2022-01-16T20:01:53.293099Z"
    }
   },
   "outputs": [
    {
     "name": "stdout",
     "output_type": "stream",
     "text": [
      "name     \n",
      "종연    MV1    5.0\n",
      "      MV2    6.0\n",
      "유찬    MV1    6.0\n",
      "      MV3    6.0\n",
      "은학    MV1    7.0\n",
      "      MV2    8.0\n",
      "      MV3    7.0\n",
      "성수    MV2    9.0\n",
      "      MV3    8.0\n",
      "dtype: float64\n",
      "<class 'pandas.core.series.Series'>\n",
      "\n",
      "\n",
      "      MV1  MV2  MV3\n",
      "name               \n",
      "종연    5.0  6.0  NaN\n",
      "유찬    6.0  NaN  6.0\n",
      "은학    7.0  8.0  7.0\n",
      "성수    NaN  9.0  8.0\n"
     ]
    }
   ],
   "source": [
    "print(df.stack())\n",
    "print(type(df.stack()))\n",
    "print('\\n')\n",
    "print(df.stack().unstack())"
   ]
  },
  {
   "cell_type": "code",
   "execution_count": 1,
   "id": "8019b97f",
   "metadata": {
    "ExecuteTime": {
     "end_time": "2022-01-16T19:47:34.613113Z",
     "start_time": "2022-01-16T19:47:33.617077Z"
    }
   },
   "outputs": [],
   "source": [
    "import numpy as np\n",
    "import pandas as pd"
   ]
  },
  {
   "cell_type": "code",
   "execution_count": 27,
   "id": "8337638a",
   "metadata": {
    "ExecuteTime": {
     "end_time": "2022-01-16T20:03:46.793959Z",
     "start_time": "2022-01-16T20:03:46.769812Z"
    }
   },
   "outputs": [
    {
     "data": {
      "text/html": [
       "<div>\n",
       "<style scoped>\n",
       "    .dataframe tbody tr th:only-of-type {\n",
       "        vertical-align: middle;\n",
       "    }\n",
       "\n",
       "    .dataframe tbody tr th {\n",
       "        vertical-align: top;\n",
       "    }\n",
       "\n",
       "    .dataframe thead th {\n",
       "        text-align: right;\n",
       "    }\n",
       "</style>\n",
       "<table border=\"1\" class=\"dataframe\">\n",
       "  <thead>\n",
       "    <tr style=\"text-align: right;\">\n",
       "      <th></th>\n",
       "      <th>source</th>\n",
       "      <th>target</th>\n",
       "      <th>rating</th>\n",
       "    </tr>\n",
       "  </thead>\n",
       "  <tbody>\n",
       "    <tr>\n",
       "      <th>0</th>\n",
       "      <td>Jack Matthews</td>\n",
       "      <td>Lady in the Water</td>\n",
       "      <td>3.0</td>\n",
       "    </tr>\n",
       "    <tr>\n",
       "      <th>1</th>\n",
       "      <td>Jack Matthews</td>\n",
       "      <td>Snakes on a Plane</td>\n",
       "      <td>4.0</td>\n",
       "    </tr>\n",
       "    <tr>\n",
       "      <th>2</th>\n",
       "      <td>Jack Matthews</td>\n",
       "      <td>You Me and Dupree</td>\n",
       "      <td>3.5</td>\n",
       "    </tr>\n",
       "    <tr>\n",
       "      <th>3</th>\n",
       "      <td>Jack Matthews</td>\n",
       "      <td>Superman Returns</td>\n",
       "      <td>5.0</td>\n",
       "    </tr>\n",
       "    <tr>\n",
       "      <th>4</th>\n",
       "      <td>Jack Matthews</td>\n",
       "      <td>The Night Listener</td>\n",
       "      <td>3.0</td>\n",
       "    </tr>\n",
       "    <tr>\n",
       "      <th>5</th>\n",
       "      <td>Mick LaSalle</td>\n",
       "      <td>Lady in the Water</td>\n",
       "      <td>3.0</td>\n",
       "    </tr>\n",
       "    <tr>\n",
       "      <th>6</th>\n",
       "      <td>Mick LaSalle</td>\n",
       "      <td>Snakes on a Plane</td>\n",
       "      <td>4.0</td>\n",
       "    </tr>\n",
       "    <tr>\n",
       "      <th>7</th>\n",
       "      <td>Mick LaSalle</td>\n",
       "      <td>Just My Luck</td>\n",
       "      <td>2.0</td>\n",
       "    </tr>\n",
       "    <tr>\n",
       "      <th>8</th>\n",
       "      <td>Mick LaSalle</td>\n",
       "      <td>Superman Returns</td>\n",
       "      <td>3.0</td>\n",
       "    </tr>\n",
       "    <tr>\n",
       "      <th>9</th>\n",
       "      <td>Mick LaSalle</td>\n",
       "      <td>The Night Listener</td>\n",
       "      <td>3.0</td>\n",
       "    </tr>\n",
       "    <tr>\n",
       "      <th>10</th>\n",
       "      <td>Claudia Puig</td>\n",
       "      <td>Snakes on a Plane</td>\n",
       "      <td>3.5</td>\n",
       "    </tr>\n",
       "    <tr>\n",
       "      <th>11</th>\n",
       "      <td>Claudia Puig</td>\n",
       "      <td>Just My Luck</td>\n",
       "      <td>3.0</td>\n",
       "    </tr>\n",
       "    <tr>\n",
       "      <th>12</th>\n",
       "      <td>Claudia Puig</td>\n",
       "      <td>The Night Listener</td>\n",
       "      <td>4.5</td>\n",
       "    </tr>\n",
       "    <tr>\n",
       "      <th>13</th>\n",
       "      <td>Lisa Rose</td>\n",
       "      <td>Lady in the Water</td>\n",
       "      <td>2.5</td>\n",
       "    </tr>\n",
       "    <tr>\n",
       "      <th>14</th>\n",
       "      <td>Lisa Rose</td>\n",
       "      <td>Snakes on a Plane</td>\n",
       "      <td>3.5</td>\n",
       "    </tr>\n",
       "    <tr>\n",
       "      <th>15</th>\n",
       "      <td>Lisa Rose</td>\n",
       "      <td>Just My Luck</td>\n",
       "      <td>3.0</td>\n",
       "    </tr>\n",
       "    <tr>\n",
       "      <th>16</th>\n",
       "      <td>Lisa Rose</td>\n",
       "      <td>Superman Returns</td>\n",
       "      <td>3.5</td>\n",
       "    </tr>\n",
       "    <tr>\n",
       "      <th>17</th>\n",
       "      <td>Lisa Rose</td>\n",
       "      <td>The Night Listener</td>\n",
       "      <td>3.0</td>\n",
       "    </tr>\n",
       "    <tr>\n",
       "      <th>18</th>\n",
       "      <td>Lisa Rose</td>\n",
       "      <td>You Me and Dupree</td>\n",
       "      <td>2.5</td>\n",
       "    </tr>\n",
       "    <tr>\n",
       "      <th>19</th>\n",
       "      <td>Toby</td>\n",
       "      <td>Snakes on a Plane</td>\n",
       "      <td>4.5</td>\n",
       "    </tr>\n",
       "  </tbody>\n",
       "</table>\n",
       "</div>"
      ],
      "text/plain": [
       "           source              target  rating\n",
       "0   Jack Matthews   Lady in the Water     3.0\n",
       "1   Jack Matthews   Snakes on a Plane     4.0\n",
       "2   Jack Matthews   You Me and Dupree     3.5\n",
       "3   Jack Matthews    Superman Returns     5.0\n",
       "4   Jack Matthews  The Night Listener     3.0\n",
       "5    Mick LaSalle   Lady in the Water     3.0\n",
       "6    Mick LaSalle   Snakes on a Plane     4.0\n",
       "7    Mick LaSalle        Just My Luck     2.0\n",
       "8    Mick LaSalle    Superman Returns     3.0\n",
       "9    Mick LaSalle  The Night Listener     3.0\n",
       "10   Claudia Puig   Snakes on a Plane     3.5\n",
       "11   Claudia Puig        Just My Luck     3.0\n",
       "12   Claudia Puig  The Night Listener     4.5\n",
       "13      Lisa Rose   Lady in the Water     2.5\n",
       "14      Lisa Rose   Snakes on a Plane     3.5\n",
       "15      Lisa Rose        Just My Luck     3.0\n",
       "16      Lisa Rose    Superman Returns     3.5\n",
       "17      Lisa Rose  The Night Listener     3.0\n",
       "18      Lisa Rose   You Me and Dupree     2.5\n",
       "19           Toby   Snakes on a Plane     4.5"
      ]
     },
     "execution_count": 27,
     "metadata": {},
     "output_type": "execute_result"
    }
   ],
   "source": [
    "df = pd.read_csv('/Users/geumjong-yeon/Downloads/3_lab_bulid_matrix/movie_rating.csv')\n",
    "df.head(20)"
   ]
  },
  {
   "cell_type": "code",
   "execution_count": 31,
   "id": "0f00586e",
   "metadata": {
    "ExecuteTime": {
     "end_time": "2022-01-16T20:04:09.551868Z",
     "start_time": "2022-01-16T20:04:09.535400Z"
    }
   },
   "outputs": [
    {
     "data": {
      "text/plain": [
       "source         target            \n",
       "Claudia Puig   Just My Luck          3.0\n",
       "               Snakes on a Plane     3.5\n",
       "               The Night Listener    4.5\n",
       "Gene Seymour   Lady in the Water     3.0\n",
       "               Snakes on a Plane     3.5\n",
       "               The Night Listener    3.0\n",
       "               You Me and Dupree     3.5\n",
       "Jack Matthews  Lady in the Water     3.0\n",
       "               Snakes on a Plane     4.0\n",
       "               Superman Returns      5.0\n",
       "               The Night Listener    3.0\n",
       "               You Me and Dupree     3.5\n",
       "Lisa Rose      Just My Luck          3.0\n",
       "               Lady in the Water     2.5\n",
       "               Snakes on a Plane     3.5\n",
       "               Superman Returns      3.5\n",
       "               The Night Listener    3.0\n",
       "               You Me and Dupree     2.5\n",
       "Mick LaSalle   Just My Luck          2.0\n",
       "               Lady in the Water     3.0\n",
       "               Snakes on a Plane     4.0\n",
       "               Superman Returns      3.0\n",
       "               The Night Listener    3.0\n",
       "Toby           Snakes on a Plane     4.5\n",
       "               Superman Returns      4.0\n",
       "Name: rating, dtype: float64"
      ]
     },
     "execution_count": 31,
     "metadata": {},
     "output_type": "execute_result"
    }
   ],
   "source": [
    "df.groupby(['source', 'target'])['rating'].sum()"
   ]
  },
  {
   "cell_type": "code",
   "execution_count": 32,
   "id": "7bda2f19",
   "metadata": {
    "ExecuteTime": {
     "end_time": "2022-01-16T20:04:20.657587Z",
     "start_time": "2022-01-16T20:04:20.631556Z"
    }
   },
   "outputs": [
    {
     "data": {
      "text/html": [
       "<div>\n",
       "<style scoped>\n",
       "    .dataframe tbody tr th:only-of-type {\n",
       "        vertical-align: middle;\n",
       "    }\n",
       "\n",
       "    .dataframe tbody tr th {\n",
       "        vertical-align: top;\n",
       "    }\n",
       "\n",
       "    .dataframe thead th {\n",
       "        text-align: right;\n",
       "    }\n",
       "</style>\n",
       "<table border=\"1\" class=\"dataframe\">\n",
       "  <thead>\n",
       "    <tr style=\"text-align: right;\">\n",
       "      <th>target</th>\n",
       "      <th>Just My Luck</th>\n",
       "      <th>Lady in the Water</th>\n",
       "      <th>Snakes on a Plane</th>\n",
       "      <th>Superman Returns</th>\n",
       "      <th>The Night Listener</th>\n",
       "      <th>You Me and Dupree</th>\n",
       "    </tr>\n",
       "    <tr>\n",
       "      <th>source</th>\n",
       "      <th></th>\n",
       "      <th></th>\n",
       "      <th></th>\n",
       "      <th></th>\n",
       "      <th></th>\n",
       "      <th></th>\n",
       "    </tr>\n",
       "  </thead>\n",
       "  <tbody>\n",
       "    <tr>\n",
       "      <th>Claudia Puig</th>\n",
       "      <td>3.0</td>\n",
       "      <td>NaN</td>\n",
       "      <td>3.5</td>\n",
       "      <td>NaN</td>\n",
       "      <td>4.5</td>\n",
       "      <td>NaN</td>\n",
       "    </tr>\n",
       "    <tr>\n",
       "      <th>Gene Seymour</th>\n",
       "      <td>NaN</td>\n",
       "      <td>3.0</td>\n",
       "      <td>3.5</td>\n",
       "      <td>NaN</td>\n",
       "      <td>3.0</td>\n",
       "      <td>3.5</td>\n",
       "    </tr>\n",
       "    <tr>\n",
       "      <th>Jack Matthews</th>\n",
       "      <td>NaN</td>\n",
       "      <td>3.0</td>\n",
       "      <td>4.0</td>\n",
       "      <td>5.0</td>\n",
       "      <td>3.0</td>\n",
       "      <td>3.5</td>\n",
       "    </tr>\n",
       "    <tr>\n",
       "      <th>Lisa Rose</th>\n",
       "      <td>3.0</td>\n",
       "      <td>2.5</td>\n",
       "      <td>3.5</td>\n",
       "      <td>3.5</td>\n",
       "      <td>3.0</td>\n",
       "      <td>2.5</td>\n",
       "    </tr>\n",
       "    <tr>\n",
       "      <th>Mick LaSalle</th>\n",
       "      <td>2.0</td>\n",
       "      <td>3.0</td>\n",
       "      <td>4.0</td>\n",
       "      <td>3.0</td>\n",
       "      <td>3.0</td>\n",
       "      <td>NaN</td>\n",
       "    </tr>\n",
       "    <tr>\n",
       "      <th>Toby</th>\n",
       "      <td>NaN</td>\n",
       "      <td>NaN</td>\n",
       "      <td>4.5</td>\n",
       "      <td>4.0</td>\n",
       "      <td>NaN</td>\n",
       "      <td>NaN</td>\n",
       "    </tr>\n",
       "  </tbody>\n",
       "</table>\n",
       "</div>"
      ],
      "text/plain": [
       "target         Just My Luck  Lady in the Water  Snakes on a Plane  \\\n",
       "source                                                              \n",
       "Claudia Puig            3.0                NaN                3.5   \n",
       "Gene Seymour            NaN                3.0                3.5   \n",
       "Jack Matthews           NaN                3.0                4.0   \n",
       "Lisa Rose               3.0                2.5                3.5   \n",
       "Mick LaSalle            2.0                3.0                4.0   \n",
       "Toby                    NaN                NaN                4.5   \n",
       "\n",
       "target         Superman Returns  The Night Listener  You Me and Dupree  \n",
       "source                                                                  \n",
       "Claudia Puig                NaN                 4.5                NaN  \n",
       "Gene Seymour                NaN                 3.0                3.5  \n",
       "Jack Matthews               5.0                 3.0                3.5  \n",
       "Lisa Rose                   3.5                 3.0                2.5  \n",
       "Mick LaSalle                3.0                 3.0                NaN  \n",
       "Toby                        4.0                 NaN                NaN  "
      ]
     },
     "execution_count": 32,
     "metadata": {},
     "output_type": "execute_result"
    }
   ],
   "source": [
    "df.groupby(['source', 'target'])['rating'].sum().unstack()"
   ]
  },
  {
   "cell_type": "code",
   "execution_count": 33,
   "id": "a1edcd41",
   "metadata": {
    "ExecuteTime": {
     "end_time": "2022-01-16T20:04:34.041058Z",
     "start_time": "2022-01-16T20:04:34.016719Z"
    }
   },
   "outputs": [
    {
     "data": {
      "text/html": [
       "<div>\n",
       "<style scoped>\n",
       "    .dataframe tbody tr th:only-of-type {\n",
       "        vertical-align: middle;\n",
       "    }\n",
       "\n",
       "    .dataframe tbody tr th {\n",
       "        vertical-align: top;\n",
       "    }\n",
       "\n",
       "    .dataframe thead th {\n",
       "        text-align: right;\n",
       "    }\n",
       "</style>\n",
       "<table border=\"1\" class=\"dataframe\">\n",
       "  <thead>\n",
       "    <tr style=\"text-align: right;\">\n",
       "      <th>target</th>\n",
       "      <th>Just My Luck</th>\n",
       "      <th>Lady in the Water</th>\n",
       "      <th>Snakes on a Plane</th>\n",
       "      <th>Superman Returns</th>\n",
       "      <th>The Night Listener</th>\n",
       "      <th>You Me and Dupree</th>\n",
       "    </tr>\n",
       "    <tr>\n",
       "      <th>source</th>\n",
       "      <th></th>\n",
       "      <th></th>\n",
       "      <th></th>\n",
       "      <th></th>\n",
       "      <th></th>\n",
       "      <th></th>\n",
       "    </tr>\n",
       "  </thead>\n",
       "  <tbody>\n",
       "    <tr>\n",
       "      <th>Claudia Puig</th>\n",
       "      <td>3.0</td>\n",
       "      <td>0.0</td>\n",
       "      <td>3.5</td>\n",
       "      <td>0.0</td>\n",
       "      <td>4.5</td>\n",
       "      <td>0.0</td>\n",
       "    </tr>\n",
       "    <tr>\n",
       "      <th>Gene Seymour</th>\n",
       "      <td>0.0</td>\n",
       "      <td>3.0</td>\n",
       "      <td>3.5</td>\n",
       "      <td>0.0</td>\n",
       "      <td>3.0</td>\n",
       "      <td>3.5</td>\n",
       "    </tr>\n",
       "    <tr>\n",
       "      <th>Jack Matthews</th>\n",
       "      <td>0.0</td>\n",
       "      <td>3.0</td>\n",
       "      <td>4.0</td>\n",
       "      <td>5.0</td>\n",
       "      <td>3.0</td>\n",
       "      <td>3.5</td>\n",
       "    </tr>\n",
       "    <tr>\n",
       "      <th>Lisa Rose</th>\n",
       "      <td>3.0</td>\n",
       "      <td>2.5</td>\n",
       "      <td>3.5</td>\n",
       "      <td>3.5</td>\n",
       "      <td>3.0</td>\n",
       "      <td>2.5</td>\n",
       "    </tr>\n",
       "    <tr>\n",
       "      <th>Mick LaSalle</th>\n",
       "      <td>2.0</td>\n",
       "      <td>3.0</td>\n",
       "      <td>4.0</td>\n",
       "      <td>3.0</td>\n",
       "      <td>3.0</td>\n",
       "      <td>0.0</td>\n",
       "    </tr>\n",
       "    <tr>\n",
       "      <th>Toby</th>\n",
       "      <td>0.0</td>\n",
       "      <td>0.0</td>\n",
       "      <td>4.5</td>\n",
       "      <td>4.0</td>\n",
       "      <td>0.0</td>\n",
       "      <td>0.0</td>\n",
       "    </tr>\n",
       "  </tbody>\n",
       "</table>\n",
       "</div>"
      ],
      "text/plain": [
       "target         Just My Luck  Lady in the Water  Snakes on a Plane  \\\n",
       "source                                                              \n",
       "Claudia Puig            3.0                0.0                3.5   \n",
       "Gene Seymour            0.0                3.0                3.5   \n",
       "Jack Matthews           0.0                3.0                4.0   \n",
       "Lisa Rose               3.0                2.5                3.5   \n",
       "Mick LaSalle            2.0                3.0                4.0   \n",
       "Toby                    0.0                0.0                4.5   \n",
       "\n",
       "target         Superman Returns  The Night Listener  You Me and Dupree  \n",
       "source                                                                  \n",
       "Claudia Puig                0.0                 4.5                0.0  \n",
       "Gene Seymour                0.0                 3.0                3.5  \n",
       "Jack Matthews               5.0                 3.0                3.5  \n",
       "Lisa Rose                   3.5                 3.0                2.5  \n",
       "Mick LaSalle                3.0                 3.0                0.0  \n",
       "Toby                        4.0                 0.0                0.0  "
      ]
     },
     "execution_count": 33,
     "metadata": {},
     "output_type": "execute_result"
    }
   ],
   "source": [
    "df.groupby(['source', 'target'])['rating'].sum().unstack().fillna(0)"
   ]
  },
  {
   "cell_type": "code",
   "execution_count": null,
   "id": "24a5ee67",
   "metadata": {},
   "outputs": [],
   "source": []
  }
 ],
 "metadata": {
  "kernelspec": {
   "display_name": "Python 3",
   "language": "python",
   "name": "python3"
  },
  "language_info": {
   "codemirror_mode": {
    "name": "ipython",
    "version": 3
   },
   "file_extension": ".py",
   "mimetype": "text/x-python",
   "name": "python",
   "nbconvert_exporter": "python",
   "pygments_lexer": "ipython3",
   "version": "3.8.8"
  },
  "toc": {
   "base_numbering": 1,
   "nav_menu": {},
   "number_sections": true,
   "sideBar": true,
   "skip_h1_title": false,
   "title_cell": "Table of Contents",
   "title_sidebar": "Contents",
   "toc_cell": false,
   "toc_position": {},
   "toc_section_display": true,
   "toc_window_display": false
  }
 },
 "nbformat": 4,
 "nbformat_minor": 5
}
